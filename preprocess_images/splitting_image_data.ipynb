{
 "cells": [
  {
   "cell_type": "markdown",
   "id": "977404c9",
   "metadata": {},
   "source": [
    "This notebook splits the imaging data into training and testing such that there are no repeating patients in the test set and that the patients in the test set do not appear in training. "
   ]
  },
  {
   "cell_type": "code",
   "execution_count": null,
   "id": "fdbdb14f-2376-480f-bd77-4644d46bef39",
   "metadata": {},
   "outputs": [
    {
     "ename": "",
     "evalue": "",
     "output_type": "error",
     "traceback": [
      "\u001b[1;31mFailed to start the Kernel. \n",
      "Traceback (most recent call last):\n",
      "  File \"/Users/raimaazrafiislam/.vscode/extensions/ms-toolsai.jupyter-2022.3.1000901801/pythonFiles/vscode_datascience_helpers/daemon/daemon_python.py\", line 54, in _decorator\n",
      "    return func(self, *args, **kwargs)\n",
      "  File \"/Users/raimaazrafiislam/.vscode/extensions/ms-toolsai.jupyter-2022.3.1000901801/pythonFiles/vscode_datascience_helpers/jupyter_daemon.py\", line 108, in m_exec_module_observable\n",
      "    self._start_notebook(args, cwd, env)\n",
      "  File \"/Users/raimaazrafiislam/.vscode/extensions/ms-toolsai.jupyter-2022.3.1000901801/pythonFiles/vscode_datascience_helpers/jupyter_daemon.py\", line 154, in _start_notebook\n",
      "    from notebook import notebookapp as app\n",
      "  File \"/Users/raimaazrafiislam/opt/miniconda3/envs/csci1470/lib/python3.10/site-packages/notebook/notebookapp.py\", line 67, in <module>\n",
      "    from notebook import (\n",
      "ImportError: cannot import name 'DEFAULT_NOTEBOOK_PORT' from 'notebook' (/Users/raimaazrafiislam/opt/miniconda3/envs/csci1470/lib/python3.10/site-packages/notebook/__init__.py)\n",
      "\n",
      "Failed to run jupyter as observable with args notebook --no-browser --notebook-dir=\"/Users/raimaazrafiislam/Desktop/SPRING 2024/CSCI 1470/ADDetection\" --KernelManager.autorestart=False --config=/var/folders/_v/0d3shdb10bvb1sp09bm59gzw0000gn/T/64e25187-7c26-434e-9e4e-e191bc7acd00/jupyter_notebook_config.py --NotebookApp.iopub_data_rate_limit=10000000000.0. \n",
      "View Jupyter <a href='command:jupyter.viewOutput'>log</a> for further details."
     ]
    }
   ],
   "source": [
    "import pandas as pd\n",
    "import random\n",
    "#reading in a dataframe that contains image arrays, patient IDs (\"subject\"), and diagnosis\n",
    "m2 = pd.read_pickle(\"mri_meta.pkl\")\n",
    "\n",
    "#cleaning patient IDs\n",
    "m2[\"subject\"] = m2[\"subject\"].str.replace(\"s\", \"S\").str.replace(\"\\n\", \"\")\n",
    "\n",
    "#reading in the overlap test set\n",
    "ts = pd.read_csv(\"overlap_test_set.csv\")\n",
    "\n",
    "#removing ids from the overlap test set\n",
    "m2 = m2[~m2[\"subject\"].isin(list(ts[\"subject\"].values))]"
   ]
  },
  {
   "cell_type": "code",
   "execution_count": null,
   "id": "e456ba68-80d5-45eb-ba12-703912383a06",
   "metadata": {},
   "outputs": [],
   "source": [
    "#there are 551 unique patients\n",
    "subjects = list(set(m2[\"subject\"].values))\n",
    "len(subjects)"
   ]
  },
  {
   "cell_type": "code",
   "execution_count": null,
   "id": "e03e8f08-88a5-4642-a855-c2ab3de8fda7",
   "metadata": {},
   "outputs": [],
   "source": [
    "0.1*len(m2) #10% for testing"
   ]
  },
  {
   "cell_type": "markdown",
   "id": "b8c6615f-3f5e-422a-9d6c-8bba87eea1c5",
   "metadata": {},
   "source": [
    "We have 3674 MRI scans from 551 patients (some patients repeated up to 16 times).\n",
    "We selected our testing set such that it has 367 unique MRIs (10% of training) shwon below. \n",
    "We do not allow for any repeating patients in the testing set. We only allowed repetition during training, and no patient was included in both training and testing sets."
   ]
  },
  {
   "cell_type": "code",
   "execution_count": null,
   "id": "f02c4c2f-a9fc-45c6-b829-9f01486a1ede",
   "metadata": {},
   "outputs": [],
   "source": [
    "#selecting 367 patient IDs\n",
    "picked_ids = random.sample(subjects, 367) "
   ]
  },
  {
   "cell_type": "code",
   "execution_count": null,
   "id": "c4e7d87c-21de-4001-bcd7-1c7df24ef03b",
   "metadata": {},
   "outputs": [],
   "source": [
    "#creating the test set out of the patient IDs\n",
    "test = pd.DataFrame(columns = [\"img_array\", \"subject\", \"label\"]) \n",
    "for i in range(len(picked_ids)):\n",
    "    s = m2[m2[\"subject\"] == picked_ids[i]].sample()\n",
    "    test = test.append(s)"
   ]
  },
  {
   "cell_type": "code",
   "execution_count": null,
   "id": "0f3ad6c8-0485-40cb-92fe-7dcf9175eaee",
   "metadata": {},
   "outputs": [],
   "source": [
    "indexes = list(set(m2.index) - set(test.index))"
   ]
  },
  {
   "cell_type": "code",
   "execution_count": null,
   "id": "4e8c7464-9a42-4e2b-b959-fd2841c04782",
   "metadata": {},
   "outputs": [],
   "source": [
    "#creating the training set using all the other data points\n",
    "train = m2[m2.index.isin(indexes)]"
   ]
  },
  {
   "cell_type": "code",
   "execution_count": null,
   "id": "053234ec-61e9-401a-801b-f889ffbf1091",
   "metadata": {},
   "outputs": [],
   "source": [
    "train[[\"img_array\"]].to_pickle(\"img_train.pkl\")\n",
    "test[[\"img_array\"]].to_pickle(\"img_test.pkl\")"
   ]
  },
  {
   "cell_type": "code",
   "execution_count": null,
   "id": "7a90b7a9-cc67-4ca4-9b11-54f4bbf7e5d6",
   "metadata": {},
   "outputs": [],
   "source": [
    "train[[\"label\"]].to_pickle(\"img_y_train.pkl\")\n",
    "test[[\"label\"]].to_pickle(\"img_y_test.pkl\")"
   ]
  }
 ],
 "metadata": {
  "kernelspec": {
   "display_name": "Python 3 (ipykernel)",
   "language": "python",
   "name": "python3"
  },
  "language_info": {
   "codemirror_mode": {
    "name": "ipython",
    "version": 3
   },
   "file_extension": ".py",
   "mimetype": "text/x-python",
   "name": "python",
   "nbconvert_exporter": "python",
   "pygments_lexer": "ipython3",
   "version": "3.10.13"
  }
 },
 "nbformat": 4,
 "nbformat_minor": 5
}
