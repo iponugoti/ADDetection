{
 "cells": [
  {
   "cell_type": "markdown",
   "id": "977404c9",
   "metadata": {},
   "source": [
    "This notebook splits the imaging data into training and testing such that there are no repeating patients in the test set and that the patients in the test set do not appear in training. "
   ]
  },
  {
   "cell_type": "code",
   "execution_count": 96,
   "id": "fdbdb14f-2376-480f-bd77-4644d46bef39",
   "metadata": {},
   "outputs": [],
   "source": [
    "import pandas as pd\n",
    "import random\n",
    "#reading in a dataframe that contains image arrays, patient IDs (\"subject\"), and diagnosis\n",
    "m2 = pd.read_pickle(\"mri_meta.pkl\")\n",
    "\n",
    "#cleaning patient IDs\n",
    "m2[\"subject\"] = m2[\"subject\"].str.replace(\"s\", \"S\").str.replace(\"\\n\", \"\")\n",
    "\n",
    "#reading in the overlap test set\n",
    "ts = pd.read_csv(\"/Users/ishaponugoti/Desktop/DL AD/ADDetection/preprocess_overlap/overlap_test_set.csv\")\n",
    "\n",
    "#removing ids from the overlap test set\n",
    "m2 = m2[~m2[\"subject\"].isin(list(ts[\"subject\"].values))]"
   ]
  },
  {
   "cell_type": "code",
   "execution_count": 97,
   "id": "e456ba68-80d5-45eb-ba12-703912383a06",
   "metadata": {},
   "outputs": [
    {
     "data": {
      "text/plain": [
       "193"
      ]
     },
     "execution_count": 97,
     "metadata": {},
     "output_type": "execute_result"
    }
   ],
   "source": [
    "#there are 551 unique patients\n",
    "subjects = list(set(m2[\"subject\"].values))\n",
    "len(subjects)"
   ]
  },
  {
   "cell_type": "code",
   "execution_count": 98,
   "id": "347538bc",
   "metadata": {},
   "outputs": [
    {
     "name": "stdout",
     "output_type": "stream",
     "text": [
      "label\n",
      "0    161\n",
      "2     84\n",
      "1     26\n",
      "Name: count, dtype: int64\n"
     ]
    }
   ],
   "source": [
    "m2 = m2[~m2['label'].isin([3, 4, 5])]\n",
    "print(m2['label'].value_counts())\n"
   ]
  },
  {
   "cell_type": "code",
   "execution_count": 99,
   "id": "ccbaebeb",
   "metadata": {},
   "outputs": [
    {
     "data": {
      "text/plain": [
       "271"
      ]
     },
     "execution_count": 99,
     "metadata": {},
     "output_type": "execute_result"
    }
   ],
   "source": [
    "len(m2)"
   ]
  },
  {
   "cell_type": "code",
   "execution_count": 100,
   "id": "e03e8f08-88a5-4642-a855-c2ab3de8fda7",
   "metadata": {},
   "outputs": [
    {
     "data": {
      "text/plain": [
       "27.1"
      ]
     },
     "execution_count": 100,
     "metadata": {},
     "output_type": "execute_result"
    }
   ],
   "source": [
    "0.1*len(m2) #10% for testing"
   ]
  },
  {
   "cell_type": "markdown",
   "id": "b8c6615f-3f5e-422a-9d6c-8bba87eea1c5",
   "metadata": {},
   "source": [
    "We have 3674 MRI scans from 551 patients (some patients repeated up to 16 times).\n",
    "We selected our testing set such that it has 367 unique MRIs (10% of training) shwon below. \n",
    "We do not allow for any repeating patients in the testing set. We only allowed repetition during training, and no patient was included in both training and testing sets."
   ]
  },
  {
   "cell_type": "code",
   "execution_count": 101,
   "id": "9c51a11a",
   "metadata": {},
   "outputs": [
    {
     "data": {
      "text/plain": [
       "179"
      ]
     },
     "execution_count": 101,
     "metadata": {},
     "output_type": "execute_result"
    }
   ],
   "source": [
    "subjects = list(set(m2[\"subject\"].values))\n",
    "len(subjects)"
   ]
  },
  {
   "cell_type": "code",
   "execution_count": 102,
   "id": "f02c4c2f-a9fc-45c6-b829-9f01486a1ede",
   "metadata": {},
   "outputs": [],
   "source": [
    "#selecting 367 patient IDs\n",
    "# picked_ids = random.sample(subjects, 367) \n",
    "picked_ids = random.sample(subjects, 100) "
   ]
  },
  {
   "cell_type": "code",
   "execution_count": 103,
   "id": "c4e7d87c-21de-4001-bcd7-1c7df24ef03b",
   "metadata": {},
   "outputs": [],
   "source": [
    "#creating the test set out of the patient IDs\n",
    "# test = pd.DataFrame(columns = [\"img_array\", \"subject\", \"label\"]) \n",
    "# for i in range(len(picked_ids)):\n",
    "#     s = m2[m2[\"subject\"] == picked_ids[i]].sample()\n",
    "#     test = test.append(s)\n",
    "\n",
    "# Initialize an empty list to store the DataFrame slices\n",
    "dataframes = []\n",
    "\n",
    "# Loop through each id in picked_ids and sample the corresponding rows from m2\n",
    "for picked_id in picked_ids:\n",
    "    s = m2[m2[\"subject\"] == picked_id].sample(n=1)\n",
    "    dataframes.append(s)\n",
    "\n",
    "# Concatenate all the DataFrame slices into a single DataFrame\n",
    "test = pd.concat(dataframes, ignore_index=True)\n",
    "\n",
    "# Now 'test' contains your sampled data\n"
   ]
  },
  {
   "cell_type": "code",
   "execution_count": 104,
   "id": "0f3ad6c8-0485-40cb-92fe-7dcf9175eaee",
   "metadata": {},
   "outputs": [],
   "source": [
    "indexes = list(set(m2.index) - set(test.index))"
   ]
  },
  {
   "cell_type": "code",
   "execution_count": 105,
   "id": "4e8c7464-9a42-4e2b-b959-fd2841c04782",
   "metadata": {},
   "outputs": [],
   "source": [
    "#creating the training set using all the other data points\n",
    "train = m2[m2.index.isin(indexes)]"
   ]
  },
  {
   "cell_type": "code",
   "execution_count": 106,
   "id": "6d3ce118",
   "metadata": {},
   "outputs": [
    {
     "name": "stdout",
     "output_type": "stream",
     "text": [
      "Unique labels in training data: [0 1 2]\n",
      "Unique labels in testing data: [0 1 2]\n"
     ]
    }
   ],
   "source": [
    "import numpy as np\n",
    "# train = train[~train['label'].isin([3, 4, 5])]\n",
    "print(\"Unique labels in training data:\", np.unique(train[[\"label\"]]))\n",
    "print(\"Unique labels in testing data:\", np.unique(test[[\"label\"]]))"
   ]
  },
  {
   "cell_type": "code",
   "execution_count": 107,
   "id": "12c51fb9",
   "metadata": {},
   "outputs": [
    {
     "data": {
      "text/plain": [
       "185"
      ]
     },
     "execution_count": 107,
     "metadata": {},
     "output_type": "execute_result"
    }
   ],
   "source": [
    "len(train[[\"label\"]])"
   ]
  },
  {
   "cell_type": "code",
   "execution_count": 108,
   "id": "8b4ef425",
   "metadata": {},
   "outputs": [
    {
     "data": {
      "text/plain": [
       "100"
      ]
     },
     "execution_count": 108,
     "metadata": {},
     "output_type": "execute_result"
    }
   ],
   "source": [
    "len(test[\"label\"])"
   ]
  },
  {
   "cell_type": "code",
   "execution_count": 109,
   "id": "053234ec-61e9-401a-801b-f889ffbf1091",
   "metadata": {},
   "outputs": [],
   "source": [
    "train[[\"img_array\"]].to_pickle(\"img_train.pkl\")\n",
    "test[[\"img_array\"]].to_pickle(\"img_test.pkl\")"
   ]
  },
  {
   "cell_type": "code",
   "execution_count": 110,
   "id": "7a90b7a9-cc67-4ca4-9b11-54f4bbf7e5d6",
   "metadata": {},
   "outputs": [],
   "source": [
    "train[[\"label\"]].to_pickle(\"img_y_train.pkl\")\n",
    "test[[\"label\"]].to_pickle(\"img_y_test.pkl\")"
   ]
  }
 ],
 "metadata": {
  "kernelspec": {
   "display_name": "Python 3 (ipykernel)",
   "language": "python",
   "name": "python3"
  },
  "language_info": {
   "codemirror_mode": {
    "name": "ipython",
    "version": 3
   },
   "file_extension": ".py",
   "mimetype": "text/x-python",
   "name": "python",
   "nbconvert_exporter": "python",
   "pygments_lexer": "ipython3",
   "version": "3.10.13"
  }
 },
 "nbformat": 4,
 "nbformat_minor": 5
}
