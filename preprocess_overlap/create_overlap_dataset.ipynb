{
 "cells": [
  {
   "cell_type": "code",
   "execution_count": 5,
   "id": "3370a00f-b555-4d72-9715-f77a7e1a5ad0",
   "metadata": {},
   "outputs": [],
   "source": [
    "import pandas as pd\n",
    "# vcf = pd.read_pickle(\"all_vcfs.pkl\")\n",
    "c = pd.read_csv(\"/Users/ishaponugoti/Desktop/DL AD/ADDetection/preprocess_clinical/clinical.csv\").drop(\"Unnamed: 0\", axis=1).rename(columns={\"PTID\":\"subject\"})\n",
    "img = pd.read_pickle(\"/Users/ishaponugoti/Desktop/DL AD/ADDetection/preprocess_images/mri_meta.pkl\")[[\"img_array\", \"subject\", \"label\"]]"
   ]
  },
  {
   "cell_type": "code",
   "execution_count": 115,
   "id": "e09f360c-4c65-4b8d-b995-e5369a983a0a",
   "metadata": {},
   "outputs": [],
   "source": [
    "# vcf.head()"
   ]
  },
  {
   "cell_type": "code",
   "execution_count": 6,
   "id": "fd47241c-c670-47f2-9ced-c010e1020c45",
   "metadata": {},
   "outputs": [
    {
     "data": {
      "text/html": [
       "<div>\n",
       "<style scoped>\n",
       "    .dataframe tbody tr th:only-of-type {\n",
       "        vertical-align: middle;\n",
       "    }\n",
       "\n",
       "    .dataframe tbody tr th {\n",
       "        vertical-align: top;\n",
       "    }\n",
       "\n",
       "    .dataframe thead th {\n",
       "        text-align: right;\n",
       "    }\n",
       "</style>\n",
       "<table border=\"1\" class=\"dataframe\">\n",
       "  <thead>\n",
       "    <tr style=\"text-align: right;\">\n",
       "      <th></th>\n",
       "      <th>subject</th>\n",
       "      <th>RID</th>\n",
       "      <th>Phase</th>\n",
       "      <th>GroupN</th>\n",
       "      <th>PTGENDER_-4.0</th>\n",
       "      <th>PTGENDER_1.0</th>\n",
       "      <th>PTGENDER_2.0</th>\n",
       "      <th>PTWORK_-4</th>\n",
       "      <th>PTHOME_-4.0</th>\n",
       "      <th>PTHOME_1.0</th>\n",
       "      <th>...</th>\n",
       "      <th>PTETHCAT_2.0</th>\n",
       "      <th>PTETHCAT_3.0</th>\n",
       "      <th>PTDOBYY</th>\n",
       "      <th>PHC_MEM</th>\n",
       "      <th>PHC_EXF</th>\n",
       "      <th>PTRACCAT</th>\n",
       "      <th>PTETHCAT</th>\n",
       "      <th>PTCOGBEG</th>\n",
       "      <th>PHC_VSP</th>\n",
       "      <th>PHC_LAN</th>\n",
       "    </tr>\n",
       "  </thead>\n",
       "  <tbody>\n",
       "    <tr>\n",
       "      <th>0</th>\n",
       "      <td>002_S_0295</td>\n",
       "      <td>295</td>\n",
       "      <td>ADNI1</td>\n",
       "      <td>0.0</td>\n",
       "      <td>False</td>\n",
       "      <td>True</td>\n",
       "      <td>False</td>\n",
       "      <td>True</td>\n",
       "      <td>False</td>\n",
       "      <td>True</td>\n",
       "      <td>...</td>\n",
       "      <td>True</td>\n",
       "      <td>False</td>\n",
       "      <td>1921.0</td>\n",
       "      <td>1.463</td>\n",
       "      <td>0.554</td>\n",
       "      <td>5</td>\n",
       "      <td>2.0</td>\n",
       "      <td>NaN</td>\n",
       "      <td>0.483</td>\n",
       "      <td>0.272</td>\n",
       "    </tr>\n",
       "    <tr>\n",
       "      <th>1</th>\n",
       "      <td>002_S_0413</td>\n",
       "      <td>413</td>\n",
       "      <td>ADNI1</td>\n",
       "      <td>0.0</td>\n",
       "      <td>False</td>\n",
       "      <td>False</td>\n",
       "      <td>True</td>\n",
       "      <td>True</td>\n",
       "      <td>False</td>\n",
       "      <td>True</td>\n",
       "      <td>...</td>\n",
       "      <td>True</td>\n",
       "      <td>False</td>\n",
       "      <td>1929.0</td>\n",
       "      <td>1.227</td>\n",
       "      <td>1.249</td>\n",
       "      <td>5</td>\n",
       "      <td>2.0</td>\n",
       "      <td>NaN</td>\n",
       "      <td>0.483</td>\n",
       "      <td>2.188</td>\n",
       "    </tr>\n",
       "    <tr>\n",
       "      <th>2</th>\n",
       "      <td>002_S_0559</td>\n",
       "      <td>559</td>\n",
       "      <td>ADNI1</td>\n",
       "      <td>0.0</td>\n",
       "      <td>False</td>\n",
       "      <td>True</td>\n",
       "      <td>False</td>\n",
       "      <td>True</td>\n",
       "      <td>False</td>\n",
       "      <td>True</td>\n",
       "      <td>...</td>\n",
       "      <td>True</td>\n",
       "      <td>False</td>\n",
       "      <td>1927.0</td>\n",
       "      <td>1.110</td>\n",
       "      <td>0.892</td>\n",
       "      <td>5</td>\n",
       "      <td>2.0</td>\n",
       "      <td>NaN</td>\n",
       "      <td>0.963</td>\n",
       "      <td>0.816</td>\n",
       "    </tr>\n",
       "    <tr>\n",
       "      <th>3</th>\n",
       "      <td>002_S_0619</td>\n",
       "      <td>619</td>\n",
       "      <td>ADNI1</td>\n",
       "      <td>2.0</td>\n",
       "      <td>False</td>\n",
       "      <td>True</td>\n",
       "      <td>False</td>\n",
       "      <td>True</td>\n",
       "      <td>False</td>\n",
       "      <td>False</td>\n",
       "      <td>...</td>\n",
       "      <td>True</td>\n",
       "      <td>False</td>\n",
       "      <td>1928.0</td>\n",
       "      <td>-1.105</td>\n",
       "      <td>-0.525</td>\n",
       "      <td>5</td>\n",
       "      <td>2.0</td>\n",
       "      <td>NaN</td>\n",
       "      <td>-0.422</td>\n",
       "      <td>-0.072</td>\n",
       "    </tr>\n",
       "    <tr>\n",
       "      <th>4</th>\n",
       "      <td>002_S_0685</td>\n",
       "      <td>685</td>\n",
       "      <td>ADNI1</td>\n",
       "      <td>0.0</td>\n",
       "      <td>False</td>\n",
       "      <td>False</td>\n",
       "      <td>True</td>\n",
       "      <td>True</td>\n",
       "      <td>False</td>\n",
       "      <td>True</td>\n",
       "      <td>...</td>\n",
       "      <td>True</td>\n",
       "      <td>False</td>\n",
       "      <td>1916.0</td>\n",
       "      <td>0.667</td>\n",
       "      <td>0.602</td>\n",
       "      <td>5</td>\n",
       "      <td>2.0</td>\n",
       "      <td>NaN</td>\n",
       "      <td>0.963</td>\n",
       "      <td>0.682</td>\n",
       "    </tr>\n",
       "  </tbody>\n",
       "</table>\n",
       "<p>5 rows × 104 columns</p>\n",
       "</div>"
      ],
      "text/plain": [
       "      subject  RID  Phase  GroupN  PTGENDER_-4.0  PTGENDER_1.0  PTGENDER_2.0  \\\n",
       "0  002_S_0295  295  ADNI1     0.0          False          True         False   \n",
       "1  002_S_0413  413  ADNI1     0.0          False         False          True   \n",
       "2  002_S_0559  559  ADNI1     0.0          False          True         False   \n",
       "3  002_S_0619  619  ADNI1     2.0          False          True         False   \n",
       "4  002_S_0685  685  ADNI1     0.0          False         False          True   \n",
       "\n",
       "   PTWORK_-4  PTHOME_-4.0  PTHOME_1.0  ...  PTETHCAT_2.0  PTETHCAT_3.0  \\\n",
       "0       True        False        True  ...          True         False   \n",
       "1       True        False        True  ...          True         False   \n",
       "2       True        False        True  ...          True         False   \n",
       "3       True        False       False  ...          True         False   \n",
       "4       True        False        True  ...          True         False   \n",
       "\n",
       "   PTDOBYY  PHC_MEM  PHC_EXF  PTRACCAT  PTETHCAT  PTCOGBEG  PHC_VSP  PHC_LAN  \n",
       "0   1921.0    1.463    0.554         5       2.0       NaN    0.483    0.272  \n",
       "1   1929.0    1.227    1.249         5       2.0       NaN    0.483    2.188  \n",
       "2   1927.0    1.110    0.892         5       2.0       NaN    0.963    0.816  \n",
       "3   1928.0   -1.105   -0.525         5       2.0       NaN   -0.422   -0.072  \n",
       "4   1916.0    0.667    0.602         5       2.0       NaN    0.963    0.682  \n",
       "\n",
       "[5 rows x 104 columns]"
      ]
     },
     "execution_count": 6,
     "metadata": {},
     "output_type": "execute_result"
    }
   ],
   "source": [
    "c.head()"
   ]
  },
  {
   "cell_type": "code",
   "execution_count": 7,
   "id": "0d315924-eacb-4ad6-a5c5-72386f0aa7db",
   "metadata": {},
   "outputs": [],
   "source": [
    "c = c.rename(columns = {\"Group\":\"GROUP\"})"
   ]
  },
  {
   "cell_type": "code",
   "execution_count": 9,
   "id": "5b3082bf-81c0-4934-9785-5d7d4e11eba7",
   "metadata": {},
   "outputs": [],
   "source": [
    "# a = vcf.merge(c, on = [\"subject\", \"GROUP\"]).merge(img, on = \"subject\")\n",
    "a = c"
   ]
  },
  {
   "cell_type": "code",
   "execution_count": 10,
   "id": "767db294-0791-49a1-8cd6-ab530658c156",
   "metadata": {},
   "outputs": [
    {
     "data": {
      "text/plain": [
       "subject\n",
       "002_S_0295    1\n",
       "099_S_6038    1\n",
       "099_S_6097    1\n",
       "099_S_6175    1\n",
       "099_S_6344    1\n",
       "             ..\n",
       "029_S_1215    1\n",
       "029_S_1218    1\n",
       "029_S_1318    1\n",
       "029_S_1384    1\n",
       "941_S_7106    1\n",
       "Name: count, Length: 2925, dtype: int64"
      ]
     },
     "execution_count": 10,
     "metadata": {},
     "output_type": "execute_result"
    }
   ],
   "source": [
    "a[\"subject\"].value_counts()"
   ]
  },
  {
   "cell_type": "code",
   "execution_count": 11,
   "id": "f944845e-06ed-4f9e-813e-432436ba1ef7",
   "metadata": {},
   "outputs": [
    {
     "data": {
      "text/plain": [
       "GroupN\n",
       "0.0    1077\n",
       "1.0     969\n",
       "2.0     879\n",
       "Name: count, dtype: int64"
      ]
     },
     "execution_count": 11,
     "metadata": {},
     "output_type": "execute_result"
    }
   ],
   "source": [
    "a[\"GroupN\"].value_counts()"
   ]
  },
  {
   "cell_type": "code",
   "execution_count": 121,
   "id": "337fec2d-3672-458b-922b-796316788706",
   "metadata": {},
   "outputs": [],
   "source": [
    "# a[\"GROUP\"].value_counts()"
   ]
  },
  {
   "cell_type": "code",
   "execution_count": 12,
   "id": "918771f2-1afa-41d6-bd34-d3ccb933d9eb",
   "metadata": {},
   "outputs": [],
   "source": [
    "cols = list(set(a.columns) - set([\"PTID\", \"label\", \"GROUP\",\n",
    "                                  \"RID\", \"ID\", \"Group\", \"Phase\", \"SITEID\", \"VISCODE\", \"VISCODE2\", \"USERDATE\", \"USERDATE2\", \"update_stamp\", \"DX\", \"Unnamed: 0\"]))"
   ]
  },
  {
   "cell_type": "code",
   "execution_count": 13,
   "id": "76a4ef04-5abc-4e94-ae9b-1dc49d9dea36",
   "metadata": {},
   "outputs": [],
   "source": [
    "X= a[cols]\n",
    "y = a[\"GroupN\"]"
   ]
  },
  {
   "cell_type": "code",
   "execution_count": 20,
   "id": "a2958e87",
   "metadata": {},
   "outputs": [
    {
     "name": "stdout",
     "output_type": "stream",
     "text": [
      "                                             img_array     subject label\n",
      "0    [[[0.0, 0.0, 0.0], [0.0, 0.0, 0.0], [0.0, 0.0,...  109_S_1157     1\n",
      "1    [[[0.0, 0.0, 0.0], [0.0, 0.0, 0.0], [0.0, 0.0,...  027_S_0835     0\n",
      "2    [[[0.0, 0.0, 0.0], [0.0, 0.0, 0.0], [0.0, 0.0,...  023_S_0217     0\n",
      "3    [[[0.0, 0.0, 0.0], [0.0, 0.0, 0.0], [0.0, 0.0,...  127_S_0925     0\n",
      "4    [[[0.0, 0.1871623869174006, 0.0], [0.0, 0.0531...  018_S_4399     2\n",
      "..                                                 ...         ...   ...\n",
      "311  [[[0.0, 0.0, 0.0], [0.0, 0.0, 0.0], [0.0, 0.0,...  067_S_0257     2\n",
      "312  [[[0.0, 0.0, 0.0], [0.0, 0.0, 0.0], [0.0, 0.0,...  114_S_0378     0\n",
      "313  [[[0.0, 0.0, 0.0], [0.0, 0.0, 0.0], [0.0, 0.0,...  136_S_0186     2\n",
      "314  [[[0.0, 0.0, 0.0], [0.0, 0.0, 0.0], [0.0, 0.0,...  023_S_0042     0\n",
      "316  [[[0.0, 0.0, 0.0], [0.0, 0.0, 0.0], [0.0, 0.0,...  133_S_0727     0\n",
      "\n",
      "[299 rows x 3 columns]\n"
     ]
    }
   ],
   "source": [
    "img = img[~img['label'].isin([3, 4, 5])]\n",
    "\n",
    "# Now 'filtered_df' contains only the rows where label is not 3, 4, or 5.\n",
    "print(img)"
   ]
  },
  {
   "cell_type": "code",
   "execution_count": 21,
   "id": "324024f5-7eb5-43d0-a02b-a33cd7c33e01",
   "metadata": {},
   "outputs": [],
   "source": [
    "from sklearn.model_selection import train_test_split\n",
    "X_train, X_test, y_train, y_test = train_test_split(X, y, test_size=0.1, stratify=y)"
   ]
  },
  {
   "cell_type": "code",
   "execution_count": 22,
   "id": "a165e903-b782-417f-a7db-c232cc1f5522",
   "metadata": {},
   "outputs": [],
   "source": [
    "X_test[[\"subject\"]].to_csv(\"overlap_test_set.csv\")"
   ]
  },
  {
   "cell_type": "code",
   "execution_count": 126,
   "id": "6b1ed881-6654-46b2-ae34-45d38bc2f143",
   "metadata": {},
   "outputs": [],
   "source": [
    "# snp_cols = set(X_train.columns).intersection(set(vcf.columns))"
   ]
  },
  {
   "cell_type": "code",
   "execution_count": 127,
   "id": "407d2e04-1583-46d5-8490-90668b388cc4",
   "metadata": {},
   "outputs": [],
   "source": [
    "# X_train_snp = X_train[snp_cols]\n",
    "# X_test_snp = X_test[snp_cols]"
   ]
  },
  {
   "cell_type": "code",
   "execution_count": 26,
   "id": "b2040535-5fae-4c6b-88bc-c683488cfa5f",
   "metadata": {},
   "outputs": [
    {
     "name": "stdout",
     "output_type": "stream",
     "text": [
      "3\n",
      "Index(['img_array', 'subject', 'label'], dtype='object')\n"
     ]
    }
   ],
   "source": [
    "img_cols = list(set(X_train.columns).intersection(set(img.columns)))\n",
    "print(len(img.columns))\n",
    "print(img.columns)\n",
    "X_train_img = X_train[img_cols]\n",
    "X_test_img = X_test[img_cols]"
   ]
  },
  {
   "cell_type": "code",
   "execution_count": 27,
   "id": "b4a40292-4da9-4911-b648-c98437c47dc6",
   "metadata": {},
   "outputs": [
    {
     "name": "stdout",
     "output_type": "stream",
     "text": [
      "104\n",
      "102\n"
     ]
    }
   ],
   "source": [
    "clin_cols = list(set(X_train.columns).intersection(set(c.columns)))\n",
    "print(len(c.columns))\n",
    "print(len(clin_cols))\n",
    "X_train_clin = X_train[clin_cols]\n",
    "X_test_clin = X_test[clin_cols]"
   ]
  },
  {
   "cell_type": "code",
   "execution_count": 31,
   "id": "88e2b617",
   "metadata": {},
   "outputs": [
    {
     "name": "stdout",
     "output_type": "stream",
     "text": [
      "Unique labels in training data: [0. 1. 2.]\n"
     ]
    }
   ],
   "source": [
    "import numpy as np\n",
    "print(\"Unique labels in training data:\", np.unique(y_train))"
   ]
  },
  {
   "cell_type": "code",
   "execution_count": 32,
   "id": "fb54d2ae-7429-400a-9578-dfbac76e5d74",
   "metadata": {},
   "outputs": [],
   "source": [
    "# pd.DataFrame(X_train_snp).to_pickle(\"X_train_snp.pkl\")\n",
    "# pd.DataFrame(X_test_snp).to_pickle(\"X_test_snp.pkl\")\n",
    "pd.DataFrame(y_train).to_pickle(\"y_train.pkl\")\n",
    "pd.DataFrame(y_test).to_pickle(\"y_test.pkl\")\n",
    "\n",
    "pd.DataFrame(X_train_clin).to_pickle(\"X_train_clinical.pkl\")\n",
    "pd.DataFrame(X_test_clin).to_pickle(\"X_test_clinical.pkl\")\n",
    "\n",
    "pd.DataFrame(X_train_img).to_pickle(\"X_train_img.pkl\")\n",
    "pd.DataFrame(X_test_img).to_pickle(\"X_test_img.pkl\")"
   ]
  },
  {
   "cell_type": "markdown",
   "id": "3d6be1ad-6f93-496b-a914-20728baca6f9",
   "metadata": {},
   "source": [
    "---------------------------------------------------------------------------------------------------------"
   ]
  }
 ],
 "metadata": {
  "kernelspec": {
   "display_name": "Python 3 (ipykernel)",
   "language": "python",
   "name": "python3"
  },
  "language_info": {
   "codemirror_mode": {
    "name": "ipython",
    "version": 3
   },
   "file_extension": ".py",
   "mimetype": "text/x-python",
   "name": "python",
   "nbconvert_exporter": "python",
   "pygments_lexer": "ipython3",
   "version": "3.10.13"
  }
 },
 "nbformat": 4,
 "nbformat_minor": 5
}
