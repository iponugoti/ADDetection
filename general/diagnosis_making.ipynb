{
 "cells": [
  {
   "cell_type": "markdown",
   "id": "6cfe1498-f0cb-4dea-9f09-f6d6a46e69d5",
   "metadata": {},
   "source": [
    "## Combbine all diagnosis"
   ]
  },
  {
   "cell_type": "markdown",
   "id": "bd11cf82",
   "metadata": {},
   "source": [
    "This method take diagnosis from images, clinical, and diagnosis sheet, and creates one ground truth (where all three agree) and one majority vote (where two agree) diagnosis files. "
   ]
  },
  {
   "cell_type": "code",
   "execution_count": 43,
   "id": "efe04c25-57d6-413d-941d-253dae962131",
   "metadata": {},
   "outputs": [],
   "source": [
    "import pandas as pd\n",
    "import math\n",
    "clinical = pd.read_csv(\"ADSP_PHC_COGN.csv\").rename(columns={\"PHASE\":\"Phase\"})\n",
    "#this file is the metadata file that one can get from downloading MRI images from ADNI\n",
    "img = pd.read_csv(\"metadata.csv\")\n",
    "comb = pd.read_csv(\"DXSUM_PDXCONV_ADNIALL.csv\").rename(columns={\"PHASE\":\"Phase\"})[[\"RID\", \"PTID\" , \"Phase\"]]"
   ]
  },
  {
   "cell_type": "code",
   "execution_count": 44,
   "id": "fe74db0e-9f96-41e6-a694-aec0cbe1605f",
   "metadata": {},
   "outputs": [],
   "source": [
    "def read_diagnose(file_path: str = 'DXSUM_PDXCONV_ADNIALL.csv', verbose=False):\n",
    "    # Read diagnostic summary\n",
    "    diagnostic_summary = pd.read_csv(file_path, index_col='PTID')\n",
    "    diagnostic_summary = diagnostic_summary.sort_values(by=[\"update_stamp\"], ascending=True)\n",
    "    # Create dictionary\n",
    "    diagnostic_dict: dict = {}\n",
    "    for key, data in diagnostic_summary.iterrows():\n",
    "        # Iterate for each row of the document\n",
    "        phase: str = data['PHASE']\n",
    "        diagnosis: float = -1.\n",
    "        if phase == \"ADNI1\":\n",
    "            diagnosis = data['DIAGNOSIS']\n",
    "        elif phase == \"ADNI2\" or phase == \"ADNIGO\":\n",
    "            dxchange = data['DIAGNOSIS']\n",
    "            if dxchange == 1 or dxchange == 7 or dxchange == 9:\n",
    "                diagnosis = 1.\n",
    "            if dxchange == 2 or dxchange == 4 or dxchange == 8:\n",
    "                diagnosis = 2.\n",
    "            if dxchange == 3 or dxchange == 5 or dxchange == 6:\n",
    "                diagnosis = 3.\n",
    "        elif phase == \"ADNI3\":\n",
    "            diagnosis = data['DIAGNOSIS']\n",
    "        elif phase == \"ADNI4\":\n",
    "            diagnosis = data['DIAGNOSIS']\n",
    "        else:\n",
    "            print(f\"ERROR: Not recognized study phase {phase}\")\n",
    "            exit(1)\n",
    "        # Update dictionary\n",
    "        if not math.isnan(diagnosis):\n",
    "            diagnostic_dict[key] = diagnosis\n",
    "    if verbose:\n",
    "        print_diagnostic_dict_summary(diagnostic_dict)\n",
    "    return diagnostic_dict\n",
    "\n",
    "\n",
    "def print_diagnostic_dict_summary(diagnostic_dict: dict):\n",
    "    print(f\"Number of diagnosed patients: {len(diagnostic_dict.items())}\\n\")\n",
    "    n_NL = 0\n",
    "    n_MCI = 0\n",
    "    n_AD = 0\n",
    "    for (key, data) in diagnostic_dict.items():\n",
    "        if data == 1:\n",
    "            n_NL += 1\n",
    "        if data == 2:\n",
    "            n_MCI += 1\n",
    "        if data == 3:\n",
    "            n_AD += 1\n",
    "    print(f\"Number of NL patients: {n_NL}\\n\"\n",
    "          f\"Number of MCI patients: {n_MCI}\\n\"\n",
    "          f\"Number of AD patients: {n_AD}\\n\")"
   ]
  },
  {
   "cell_type": "code",
   "execution_count": 45,
   "id": "3e0aa079-4001-469b-b683-4be139ab5686",
   "metadata": {},
   "outputs": [
    {
     "name": "stdout",
     "output_type": "stream",
     "text": [
      "Number of diagnosed patients: 3038\n",
      "\n",
      "Number of NL patients: 1126\n",
      "Number of MCI patients: 1013\n",
      "Number of AD patients: 899\n",
      "\n"
     ]
    }
   ],
   "source": [
    "d = read_diagnose()\n",
    "print_diagnostic_dict_summary(d)"
   ]
  },
  {
   "cell_type": "code",
   "execution_count": 46,
   "id": "192733b7-bdca-4fcc-9d83-4fc6dde34615",
   "metadata": {},
   "outputs": [],
   "source": [
    "new = pd.DataFrame.from_dict(d, orient='index').reset_index()"
   ]
  },
  {
   "cell_type": "code",
   "execution_count": 5,
   "id": "7ba6c638-8525-49d5-9dbf-5615406fe8ac",
   "metadata": {},
   "outputs": [
    {
     "data": {
      "text/html": [
       "<div>\n",
       "<style scoped>\n",
       "    .dataframe tbody tr th:only-of-type {\n",
       "        vertical-align: middle;\n",
       "    }\n",
       "\n",
       "    .dataframe tbody tr th {\n",
       "        vertical-align: top;\n",
       "    }\n",
       "\n",
       "    .dataframe thead th {\n",
       "        text-align: right;\n",
       "    }\n",
       "</style>\n",
       "<table border=\"1\" class=\"dataframe\">\n",
       "  <thead>\n",
       "    <tr style=\"text-align: right;\">\n",
       "      <th></th>\n",
       "      <th>Phase</th>\n",
       "      <th>PTID</th>\n",
       "      <th>RID</th>\n",
       "      <th>VISCODE</th>\n",
       "      <th>VISCODE2</th>\n",
       "      <th>EXAMDATE</th>\n",
       "      <th>DIAGNOSIS</th>\n",
       "      <th>DXNORM</th>\n",
       "      <th>DXNODEP</th>\n",
       "      <th>DXMCI</th>\n",
       "      <th>...</th>\n",
       "      <th>DXODES</th>\n",
       "      <th>DXCONFID</th>\n",
       "      <th>ID</th>\n",
       "      <th>SITEID</th>\n",
       "      <th>USERDATE</th>\n",
       "      <th>USERDATE2</th>\n",
       "      <th>DD_CRF_VERSION_LABEL</th>\n",
       "      <th>LANGUAGE_CODE</th>\n",
       "      <th>HAS_QC_ERROR</th>\n",
       "      <th>update_stamp</th>\n",
       "    </tr>\n",
       "  </thead>\n",
       "  <tbody>\n",
       "    <tr>\n",
       "      <th>0</th>\n",
       "      <td>ADNI1</td>\n",
       "      <td>011_S_0002</td>\n",
       "      <td>2</td>\n",
       "      <td>bl</td>\n",
       "      <td>bl</td>\n",
       "      <td>2005-09-29</td>\n",
       "      <td>1.0</td>\n",
       "      <td>1.0</td>\n",
       "      <td>-4.0</td>\n",
       "      <td>-4.0</td>\n",
       "      <td>...</td>\n",
       "      <td>-4.0</td>\n",
       "      <td>4.0</td>\n",
       "      <td>2</td>\n",
       "      <td>107</td>\n",
       "      <td>2005-10-01</td>\n",
       "      <td>NaN</td>\n",
       "      <td>NaN</td>\n",
       "      <td>NaN</td>\n",
       "      <td>NaN</td>\n",
       "      <td>2005-10-01 00:00:00.0</td>\n",
       "    </tr>\n",
       "    <tr>\n",
       "      <th>1</th>\n",
       "      <td>ADNI1</td>\n",
       "      <td>011_S_0003</td>\n",
       "      <td>3</td>\n",
       "      <td>bl</td>\n",
       "      <td>bl</td>\n",
       "      <td>2005-09-30</td>\n",
       "      <td>3.0</td>\n",
       "      <td>-4.0</td>\n",
       "      <td>-4.0</td>\n",
       "      <td>-4.0</td>\n",
       "      <td>...</td>\n",
       "      <td>-4.0</td>\n",
       "      <td>3.0</td>\n",
       "      <td>4</td>\n",
       "      <td>107</td>\n",
       "      <td>2005-10-01</td>\n",
       "      <td>NaN</td>\n",
       "      <td>NaN</td>\n",
       "      <td>NaN</td>\n",
       "      <td>NaN</td>\n",
       "      <td>2005-10-01 00:00:00.0</td>\n",
       "    </tr>\n",
       "    <tr>\n",
       "      <th>2</th>\n",
       "      <td>ADNI1</td>\n",
       "      <td>011_S_0005</td>\n",
       "      <td>5</td>\n",
       "      <td>bl</td>\n",
       "      <td>bl</td>\n",
       "      <td>2005-09-30</td>\n",
       "      <td>1.0</td>\n",
       "      <td>1.0</td>\n",
       "      <td>-4.0</td>\n",
       "      <td>-4.0</td>\n",
       "      <td>...</td>\n",
       "      <td>-4.0</td>\n",
       "      <td>4.0</td>\n",
       "      <td>6</td>\n",
       "      <td>107</td>\n",
       "      <td>2005-10-01</td>\n",
       "      <td>NaN</td>\n",
       "      <td>NaN</td>\n",
       "      <td>NaN</td>\n",
       "      <td>NaN</td>\n",
       "      <td>2005-10-01 00:00:00.0</td>\n",
       "    </tr>\n",
       "    <tr>\n",
       "      <th>3</th>\n",
       "      <td>ADNI1</td>\n",
       "      <td>011_S_0008</td>\n",
       "      <td>8</td>\n",
       "      <td>bl</td>\n",
       "      <td>bl</td>\n",
       "      <td>2005-09-30</td>\n",
       "      <td>1.0</td>\n",
       "      <td>1.0</td>\n",
       "      <td>-4.0</td>\n",
       "      <td>-4.0</td>\n",
       "      <td>...</td>\n",
       "      <td>-4.0</td>\n",
       "      <td>3.0</td>\n",
       "      <td>8</td>\n",
       "      <td>107</td>\n",
       "      <td>2005-10-01</td>\n",
       "      <td>NaN</td>\n",
       "      <td>NaN</td>\n",
       "      <td>NaN</td>\n",
       "      <td>NaN</td>\n",
       "      <td>2005-10-01 00:00:00.0</td>\n",
       "    </tr>\n",
       "    <tr>\n",
       "      <th>4</th>\n",
       "      <td>ADNI1</td>\n",
       "      <td>022_S_0007</td>\n",
       "      <td>7</td>\n",
       "      <td>bl</td>\n",
       "      <td>bl</td>\n",
       "      <td>2005-10-06</td>\n",
       "      <td>3.0</td>\n",
       "      <td>-4.0</td>\n",
       "      <td>-4.0</td>\n",
       "      <td>-4.0</td>\n",
       "      <td>...</td>\n",
       "      <td>-4.0</td>\n",
       "      <td>4.0</td>\n",
       "      <td>10</td>\n",
       "      <td>10</td>\n",
       "      <td>2005-10-06</td>\n",
       "      <td>NaN</td>\n",
       "      <td>NaN</td>\n",
       "      <td>NaN</td>\n",
       "      <td>NaN</td>\n",
       "      <td>2005-10-06 00:00:00.0</td>\n",
       "    </tr>\n",
       "  </tbody>\n",
       "</table>\n",
       "<p>5 rows × 41 columns</p>\n",
       "</div>"
      ],
      "text/plain": [
       "   Phase        PTID  RID VISCODE VISCODE2    EXAMDATE  DIAGNOSIS  DXNORM  \\\n",
       "0  ADNI1  011_S_0002    2      bl       bl  2005-09-29        1.0     1.0   \n",
       "1  ADNI1  011_S_0003    3      bl       bl  2005-09-30        3.0    -4.0   \n",
       "2  ADNI1  011_S_0005    5      bl       bl  2005-09-30        1.0     1.0   \n",
       "3  ADNI1  011_S_0008    8      bl       bl  2005-09-30        1.0     1.0   \n",
       "4  ADNI1  022_S_0007    7      bl       bl  2005-10-06        3.0    -4.0   \n",
       "\n",
       "   DXNODEP  DXMCI  ... DXODES  DXCONFID  ID  SITEID    USERDATE  USERDATE2  \\\n",
       "0     -4.0   -4.0  ...   -4.0       4.0   2     107  2005-10-01        NaN   \n",
       "1     -4.0   -4.0  ...   -4.0       3.0   4     107  2005-10-01        NaN   \n",
       "2     -4.0   -4.0  ...   -4.0       4.0   6     107  2005-10-01        NaN   \n",
       "3     -4.0   -4.0  ...   -4.0       3.0   8     107  2005-10-01        NaN   \n",
       "4     -4.0   -4.0  ...   -4.0       4.0  10      10  2005-10-06        NaN   \n",
       "\n",
       "   DD_CRF_VERSION_LABEL  LANGUAGE_CODE HAS_QC_ERROR           update_stamp  \n",
       "0                   NaN            NaN          NaN  2005-10-01 00:00:00.0  \n",
       "1                   NaN            NaN          NaN  2005-10-01 00:00:00.0  \n",
       "2                   NaN            NaN          NaN  2005-10-01 00:00:00.0  \n",
       "3                   NaN            NaN          NaN  2005-10-01 00:00:00.0  \n",
       "4                   NaN            NaN          NaN  2005-10-06 00:00:00.0  \n",
       "\n",
       "[5 rows x 41 columns]"
      ]
     },
     "execution_count": 5,
     "metadata": {},
     "output_type": "execute_result"
    }
   ],
   "source": [
    "clinical.head()"
   ]
  },
  {
   "cell_type": "code",
   "execution_count": 6,
   "id": "2f57f2f7-261a-49d0-b460-5ceeeeda188b",
   "metadata": {},
   "outputs": [],
   "source": [
    "clinical[\"year\"] = clinical[\"EXAMDATE\"].str[:4]\n",
    "# clinical.head()"
   ]
  },
  {
   "cell_type": "code",
   "execution_count": 7,
   "id": "a5a64014-959a-4b4a-aa2f-d3ea1b024f49",
   "metadata": {},
   "outputs": [],
   "source": [
    "clinical[\"Subject\"] = clinical[\"PTID\"].str.replace(\"ADNI_\", \"\").str.replace(\"s\", \"S\")\n"
   ]
  },
  {
   "cell_type": "code",
   "execution_count": 8,
   "id": "08f35069-5ed3-45c3-856a-e74a1630807c",
   "metadata": {},
   "outputs": [],
   "source": [
    "c = comb.merge(clinical, on = [\"RID\", \"Phase\"])"
   ]
  },
  {
   "cell_type": "code",
   "execution_count": 9,
   "id": "a79d5bf8-1c86-4da2-a348-4e2c40199f5b",
   "metadata": {},
   "outputs": [],
   "source": [
    "c = c.drop(\"Subject\", axis =1)"
   ]
  },
  {
   "cell_type": "code",
   "execution_count": 10,
   "id": "f700599f-3a5a-4fb0-b804-7cb1f0803121",
   "metadata": {},
   "outputs": [],
   "source": [
    "c = c.rename(columns = {\"PTID\":\"Subject\"})"
   ]
  },
  {
   "cell_type": "code",
   "execution_count": 11,
   "id": "614d4927-e2ae-4385-9ef6-1e4dbb09de2a",
   "metadata": {},
   "outputs": [],
   "source": [
    "img[\"year\"] = img[\"SCANDATE\"].str[5:].str.replace(\"/\", \"\")"
   ]
  },
  {
   "cell_type": "code",
   "execution_count": 12,
   "id": "de9e6f5f-b1dc-4518-9607-83297bcea7d6",
   "metadata": {},
   "outputs": [],
   "source": [
    "img = img.replace([\"CN\", \"MCI\", \"AD\"], [ 0, 1, 2])"
   ]
  },
  {
   "cell_type": "code",
   "execution_count": 13,
   "id": "8843c4a2-b07b-4f55-80f2-d5b2b105f29c",
   "metadata": {},
   "outputs": [],
   "source": [
    "# c[\"DX\"] = c[\"DX\"] -1"
   ]
  },
  {
   "cell_type": "code",
   "execution_count": 64,
   "id": "af4f8c6f-078f-403f-9d0b-42bd1a3ab4e4",
   "metadata": {},
   "outputs": [],
   "source": [
    "new[0] = new[0].astype(int) -1"
   ]
  },
  {
   "cell_type": "code",
   "execution_count": 66,
   "id": "b2754cac-d38e-4fb9-a4b6-0bc9e9e192b2",
   "metadata": {},
   "outputs": [],
   "source": [
    "new = new.rename(columns = {\"index\":\"Subject\", 0:\"GroupN\"})"
   ]
  },
  {
   "cell_type": "code",
   "execution_count": 67,
   "id": "9b78fd33",
   "metadata": {},
   "outputs": [
    {
     "data": {
      "text/html": [
       "<div>\n",
       "<style scoped>\n",
       "    .dataframe tbody tr th:only-of-type {\n",
       "        vertical-align: middle;\n",
       "    }\n",
       "\n",
       "    .dataframe tbody tr th {\n",
       "        vertical-align: top;\n",
       "    }\n",
       "\n",
       "    .dataframe thead th {\n",
       "        text-align: right;\n",
       "    }\n",
       "</style>\n",
       "<table border=\"1\" class=\"dataframe\">\n",
       "  <thead>\n",
       "    <tr style=\"text-align: right;\">\n",
       "      <th></th>\n",
       "      <th>TYPE</th>\n",
       "      <th>Subject</th>\n",
       "      <th>VISIT</th>\n",
       "      <th>MAGSTRENGTH</th>\n",
       "      <th>SEQUENCE</th>\n",
       "      <th>SCANDATE</th>\n",
       "      <th>STUDYID</th>\n",
       "      <th>SERIESID</th>\n",
       "      <th>IMAGEUID</th>\n",
       "    </tr>\n",
       "  </thead>\n",
       "  <tbody>\n",
       "    <tr>\n",
       "      <th>0</th>\n",
       "      <td>Original</td>\n",
       "      <td>037_S_1421</td>\n",
       "      <td>ADNI Screening</td>\n",
       "      <td>1.5</td>\n",
       "      <td>FSE PD/T2</td>\n",
       "      <td>2007-08-27</td>\n",
       "      <td>11613</td>\n",
       "      <td>38600</td>\n",
       "      <td>70852</td>\n",
       "    </tr>\n",
       "    <tr>\n",
       "      <th>1</th>\n",
       "      <td>Original</td>\n",
       "      <td>037_S_1421</td>\n",
       "      <td>ADNI Screening</td>\n",
       "      <td>1.5</td>\n",
       "      <td>FSE PD/T2</td>\n",
       "      <td>2007-08-27</td>\n",
       "      <td>11613</td>\n",
       "      <td>38600</td>\n",
       "      <td>70853</td>\n",
       "    </tr>\n",
       "    <tr>\n",
       "      <th>2</th>\n",
       "      <td>Original</td>\n",
       "      <td>037_S_1421</td>\n",
       "      <td>ADNI Screening</td>\n",
       "      <td>1.5</td>\n",
       "      <td>MP-RAGE REPEAT</td>\n",
       "      <td>2007-08-27</td>\n",
       "      <td>11613</td>\n",
       "      <td>38601</td>\n",
       "      <td>70854</td>\n",
       "    </tr>\n",
       "    <tr>\n",
       "      <th>3</th>\n",
       "      <td>Original</td>\n",
       "      <td>037_S_1421</td>\n",
       "      <td>ADNI Screening</td>\n",
       "      <td>1.5</td>\n",
       "      <td>MP-RAGE</td>\n",
       "      <td>2007-08-27</td>\n",
       "      <td>11613</td>\n",
       "      <td>38602</td>\n",
       "      <td>70855</td>\n",
       "    </tr>\n",
       "    <tr>\n",
       "      <th>4</th>\n",
       "      <td>Original</td>\n",
       "      <td>037_S_1421</td>\n",
       "      <td>ADNI1/GO Month 6</td>\n",
       "      <td>1.5</td>\n",
       "      <td>FSE PD/T2</td>\n",
       "      <td>2008-02-20</td>\n",
       "      <td>14713</td>\n",
       "      <td>45954</td>\n",
       "      <td>91143</td>\n",
       "    </tr>\n",
       "  </tbody>\n",
       "</table>\n",
       "</div>"
      ],
      "text/plain": [
       "       TYPE     Subject             VISIT  MAGSTRENGTH        SEQUENCE  \\\n",
       "0  Original  037_S_1421    ADNI Screening          1.5       FSE PD/T2   \n",
       "1  Original  037_S_1421    ADNI Screening          1.5       FSE PD/T2   \n",
       "2  Original  037_S_1421    ADNI Screening          1.5  MP-RAGE REPEAT   \n",
       "3  Original  037_S_1421    ADNI Screening          1.5         MP-RAGE   \n",
       "4  Original  037_S_1421  ADNI1/GO Month 6          1.5       FSE PD/T2   \n",
       "\n",
       "     SCANDATE  STUDYID  SERIESID  IMAGEUID  \n",
       "0  2007-08-27    11613     38600     70852  \n",
       "1  2007-08-27    11613     38600     70853  \n",
       "2  2007-08-27    11613     38601     70854  \n",
       "3  2007-08-27    11613     38602     70855  \n",
       "4  2008-02-20    14713     45954     91143  "
      ]
     },
     "execution_count": 67,
     "metadata": {},
     "output_type": "execute_result"
    }
   ],
   "source": [
    "c.head()\n",
    "c.drop(\"PTID_y\", axis=1)\n",
    "c = c.rename(columns={\"PTID_x\" : \"Subject\"})\n",
    "img = img.rename(columns={\"SUBJECT\" : \"Subject\"})\n",
    "img.head()"
   ]
  },
  {
   "cell_type": "code",
   "execution_count": 68,
   "id": "46a3733a-dc9f-4720-b2bf-9bf7ff16b1ef",
   "metadata": {},
   "outputs": [],
   "source": [
    "m = new.merge(c, on = \"Subject\", how = \"outer\").merge(img, on = \"Subject\", how = \"outer\")"
   ]
  },
  {
   "cell_type": "code",
   "execution_count": 69,
   "id": "23b2009d",
   "metadata": {},
   "outputs": [
    {
     "data": {
      "text/plain": [
       "Index(['Subject', 'GroupN', 'RID', 'Phase', 'PTID_y', 'VISCODE', 'VISCODE2',\n",
       "       'EXAMDATE', 'DIAGNOSIS', 'DXNORM', 'DXNODEP', 'DXMCI', 'DXMDES',\n",
       "       'DXMPTR1', 'DXMPTR2', 'DXMPTR3', 'DXMPTR4', 'DXMPTR5', 'DXMPTR6',\n",
       "       'DXMDUE', 'DXMOTHET', 'DXDSEV', 'DXDDUE', 'DXAD', 'DXAPP', 'DXAPROB',\n",
       "       'DXAPOSS', 'DXPARK', 'DXPDES', 'DXPCOG', 'DXPATYP', 'DXDEP', 'DXOTHDEM',\n",
       "       'DXODES', 'DXCONFID', 'ID', 'SITEID', 'USERDATE', 'USERDATE2',\n",
       "       'DD_CRF_VERSION_LABEL', 'LANGUAGE_CODE', 'HAS_QC_ERROR', 'update_stamp',\n",
       "       'year', 'TYPE', 'VISIT', 'MAGSTRENGTH', 'SEQUENCE', 'SCANDATE',\n",
       "       'STUDYID', 'SERIESID', 'IMAGEUID'],\n",
       "      dtype='object')"
      ]
     },
     "execution_count": 69,
     "metadata": {},
     "output_type": "execute_result"
    }
   ],
   "source": [
    "m.columns"
   ]
  },
  {
   "cell_type": "code",
   "execution_count": 72,
   "id": "3ca3eb93-d144-4df3-af48-7c8dc8341d19",
   "metadata": {},
   "outputs": [
    {
     "data": {
      "text/html": [
       "<div>\n",
       "<style scoped>\n",
       "    .dataframe tbody tr th:only-of-type {\n",
       "        vertical-align: middle;\n",
       "    }\n",
       "\n",
       "    .dataframe tbody tr th {\n",
       "        vertical-align: top;\n",
       "    }\n",
       "\n",
       "    .dataframe thead th {\n",
       "        text-align: right;\n",
       "    }\n",
       "</style>\n",
       "<table border=\"1\" class=\"dataframe\">\n",
       "  <thead>\n",
       "    <tr style=\"text-align: right;\">\n",
       "      <th></th>\n",
       "      <th>GroupN</th>\n",
       "      <th>DIAGNOSIS</th>\n",
       "    </tr>\n",
       "  </thead>\n",
       "  <tbody>\n",
       "    <tr>\n",
       "      <th>0</th>\n",
       "      <td>1.0</td>\n",
       "      <td>1.0</td>\n",
       "    </tr>\n",
       "    <tr>\n",
       "      <th>1</th>\n",
       "      <td>1.0</td>\n",
       "      <td>1.0</td>\n",
       "    </tr>\n",
       "    <tr>\n",
       "      <th>2</th>\n",
       "      <td>1.0</td>\n",
       "      <td>1.0</td>\n",
       "    </tr>\n",
       "    <tr>\n",
       "      <th>3</th>\n",
       "      <td>1.0</td>\n",
       "      <td>1.0</td>\n",
       "    </tr>\n",
       "    <tr>\n",
       "      <th>4</th>\n",
       "      <td>1.0</td>\n",
       "      <td>1.0</td>\n",
       "    </tr>\n",
       "    <tr>\n",
       "      <th>...</th>\n",
       "      <td>...</td>\n",
       "      <td>...</td>\n",
       "    </tr>\n",
       "    <tr>\n",
       "      <th>3019000</th>\n",
       "      <td>NaN</td>\n",
       "      <td>NaN</td>\n",
       "    </tr>\n",
       "    <tr>\n",
       "      <th>3019001</th>\n",
       "      <td>NaN</td>\n",
       "      <td>NaN</td>\n",
       "    </tr>\n",
       "    <tr>\n",
       "      <th>3019002</th>\n",
       "      <td>NaN</td>\n",
       "      <td>NaN</td>\n",
       "    </tr>\n",
       "    <tr>\n",
       "      <th>3019003</th>\n",
       "      <td>NaN</td>\n",
       "      <td>NaN</td>\n",
       "    </tr>\n",
       "    <tr>\n",
       "      <th>3019004</th>\n",
       "      <td>NaN</td>\n",
       "      <td>NaN</td>\n",
       "    </tr>\n",
       "  </tbody>\n",
       "</table>\n",
       "<p>3019005 rows × 2 columns</p>\n",
       "</div>"
      ],
      "text/plain": [
       "         GroupN  DIAGNOSIS\n",
       "0           1.0        1.0\n",
       "1           1.0        1.0\n",
       "2           1.0        1.0\n",
       "3           1.0        1.0\n",
       "4           1.0        1.0\n",
       "...         ...        ...\n",
       "3019000     NaN        NaN\n",
       "3019001     NaN        NaN\n",
       "3019002     NaN        NaN\n",
       "3019003     NaN        NaN\n",
       "3019004     NaN        NaN\n",
       "\n",
       "[3019005 rows x 2 columns]"
      ]
     },
     "execution_count": 72,
     "metadata": {},
     "output_type": "execute_result"
    }
   ],
   "source": [
    "m[[\"GroupN\", \"DIAGNOSIS\"]]"
   ]
  },
  {
   "cell_type": "code",
   "execution_count": 73,
   "id": "fb89d6f4-968c-4c3a-89a5-b2d94d71bc08",
   "metadata": {},
   "outputs": [],
   "source": [
    "m = m[[\"Subject\", \"GroupN\", \"DIAGNOSIS\", \"Phase\"]].drop_duplicates()"
   ]
  },
  {
   "cell_type": "code",
   "execution_count": 74,
   "id": "104fa42b-2599-4b7e-81e1-ec0a0ec1ef71",
   "metadata": {},
   "outputs": [
    {
     "data": {
      "text/html": [
       "<div>\n",
       "<style scoped>\n",
       "    .dataframe tbody tr th:only-of-type {\n",
       "        vertical-align: middle;\n",
       "    }\n",
       "\n",
       "    .dataframe tbody tr th {\n",
       "        vertical-align: top;\n",
       "    }\n",
       "\n",
       "    .dataframe thead th {\n",
       "        text-align: right;\n",
       "    }\n",
       "</style>\n",
       "<table border=\"1\" class=\"dataframe\">\n",
       "  <thead>\n",
       "    <tr style=\"text-align: right;\">\n",
       "      <th></th>\n",
       "      <th>Subject</th>\n",
       "      <th>GroupN</th>\n",
       "      <th>DIAGNOSIS</th>\n",
       "      <th>Phase</th>\n",
       "    </tr>\n",
       "  </thead>\n",
       "  <tbody>\n",
       "    <tr>\n",
       "      <th>0</th>\n",
       "      <td>011_S_0002</td>\n",
       "      <td>1.0</td>\n",
       "      <td>1.0</td>\n",
       "      <td>ADNI1</td>\n",
       "    </tr>\n",
       "    <tr>\n",
       "      <th>54</th>\n",
       "      <td>011_S_0002</td>\n",
       "      <td>1.0</td>\n",
       "      <td>1.0</td>\n",
       "      <td>ADNIGO</td>\n",
       "    </tr>\n",
       "    <tr>\n",
       "      <th>60</th>\n",
       "      <td>011_S_0002</td>\n",
       "      <td>1.0</td>\n",
       "      <td>1.0</td>\n",
       "      <td>ADNI2</td>\n",
       "    </tr>\n",
       "    <tr>\n",
       "      <th>66</th>\n",
       "      <td>011_S_0002</td>\n",
       "      <td>1.0</td>\n",
       "      <td>2.0</td>\n",
       "      <td>ADNI2</td>\n",
       "    </tr>\n",
       "    <tr>\n",
       "      <th>210</th>\n",
       "      <td>011_S_0002</td>\n",
       "      <td>1.0</td>\n",
       "      <td>2.0</td>\n",
       "      <td>ADNI3</td>\n",
       "    </tr>\n",
       "    <tr>\n",
       "      <th>...</th>\n",
       "      <td>...</td>\n",
       "      <td>...</td>\n",
       "      <td>...</td>\n",
       "      <td>...</td>\n",
       "    </tr>\n",
       "    <tr>\n",
       "      <th>3018736</th>\n",
       "      <td>033_S_10099</td>\n",
       "      <td>0.0</td>\n",
       "      <td>1.0</td>\n",
       "      <td>ADNI4</td>\n",
       "    </tr>\n",
       "    <tr>\n",
       "      <th>3018737</th>\n",
       "      <td>941_S_10103</td>\n",
       "      <td>1.0</td>\n",
       "      <td>2.0</td>\n",
       "      <td>ADNI4</td>\n",
       "    </tr>\n",
       "    <tr>\n",
       "      <th>3018738</th>\n",
       "      <td>135_S_10097</td>\n",
       "      <td>1.0</td>\n",
       "      <td>2.0</td>\n",
       "      <td>ADNI4</td>\n",
       "    </tr>\n",
       "    <tr>\n",
       "      <th>3018739</th>\n",
       "      <td>019_S_10102</td>\n",
       "      <td>1.0</td>\n",
       "      <td>2.0</td>\n",
       "      <td>ADNI4</td>\n",
       "    </tr>\n",
       "    <tr>\n",
       "      <th>3018740</th>\n",
       "      <td>033_S_10107</td>\n",
       "      <td>2.0</td>\n",
       "      <td>3.0</td>\n",
       "      <td>ADNI4</td>\n",
       "    </tr>\n",
       "  </tbody>\n",
       "</table>\n",
       "<p>4762 rows × 4 columns</p>\n",
       "</div>"
      ],
      "text/plain": [
       "             Subject  GroupN  DIAGNOSIS   Phase\n",
       "0         011_S_0002     1.0        1.0   ADNI1\n",
       "54        011_S_0002     1.0        1.0  ADNIGO\n",
       "60        011_S_0002     1.0        1.0   ADNI2\n",
       "66        011_S_0002     1.0        2.0   ADNI2\n",
       "210       011_S_0002     1.0        2.0   ADNI3\n",
       "...              ...     ...        ...     ...\n",
       "3018736  033_S_10099     0.0        1.0   ADNI4\n",
       "3018737  941_S_10103     1.0        2.0   ADNI4\n",
       "3018738  135_S_10097     1.0        2.0   ADNI4\n",
       "3018739  019_S_10102     1.0        2.0   ADNI4\n",
       "3018740  033_S_10107     2.0        3.0   ADNI4\n",
       "\n",
       "[4762 rows x 4 columns]"
      ]
     },
     "execution_count": 74,
     "metadata": {},
     "output_type": "execute_result"
    }
   ],
   "source": [
    "m = m.dropna(subset = [\"GroupN\", \"DIAGNOSIS\"], how=\"all\").drop_duplicates()\n",
    "m"
   ]
  },
  {
   "cell_type": "code",
   "execution_count": 22,
   "id": "e1048f8c-3daf-48bf-939d-f25117afc729",
   "metadata": {},
   "outputs": [],
   "source": [
    "# m.loc[m[\"DIAGNOSIS\"].isna() & m[\"Group\"].isna(), \"Group\"] = m.loc[m[\"DX\"].isna() & m[\"Group\"].isna(), \"GroupN\"]\n",
    "# m.loc[m[\"DIAGNOSIS\"].isna() & m[\"Group\"].isna(), \"DX\"] = m.loc[m[\"DX\"].isna() & m[\"Group\"].isna(), \"GroupN\"]"
   ]
  },
  {
   "cell_type": "code",
   "execution_count": 78,
   "id": "77ed996f-f006-4815-a9ca-c886a110548a",
   "metadata": {},
   "outputs": [],
   "source": [
    "# m1 = m[m[\"GroupN\"] == m[\"Group\"]]\n",
    "m3 = m[m[\"GroupN\"] == m[\"DIAGNOSIS\"]]\n",
    "# m4 = m[m[\"Group\"] == m[\"DIAGNOSIS\"]]\n",
    "# m2 = m1[m1[\"Group\"] == m1[\"DX\"]]"
   ]
  },
  {
   "cell_type": "code",
   "execution_count": 24,
   "id": "baf23308-67b6-43fa-ace9-9637ee8364ab",
   "metadata": {},
   "outputs": [],
   "source": [
    "# m1 = m1[[\"Subject\", \"GroupN\", \"Group\", \"DX\", \"Phase\"]]\n",
    "# m1"
   ]
  },
  {
   "cell_type": "code",
   "execution_count": 25,
   "id": "88ba7e0c-ee41-4595-8a0f-3848d9fbeba7",
   "metadata": {},
   "outputs": [],
   "source": [
    "# m1.loc[m1[\"DX\"].isna(), \"DX\"] = m1.loc[m1[\"DX\"].isna(), \"Group\"]"
   ]
  },
  {
   "cell_type": "code",
   "execution_count": 26,
   "id": "82d8c823-35f5-41b9-b439-c0b5e13370c4",
   "metadata": {},
   "outputs": [],
   "source": [
    "# m3 = m3[[\"Subject\", \"GroupN\", \"Group\", \"DX\", \"Phase\"]]\n",
    "# m3"
   ]
  },
  {
   "cell_type": "code",
   "execution_count": 27,
   "id": "7aabb579-0fc5-41ad-9cd4-ce820715977f",
   "metadata": {},
   "outputs": [],
   "source": [
    "# m3.loc[m3[\"Group\"].isna(), \"Group\"] = m3.loc[m3[\"Group\"].isna(), \"GroupN\"]"
   ]
  },
  {
   "cell_type": "code",
   "execution_count": 28,
   "id": "cc88ae06-9ead-4fc9-b23b-456d8e9e87bd",
   "metadata": {},
   "outputs": [],
   "source": [
    "# m4 = m4[[\"Subject\", \"GroupN\", \"Group\", \"DX\", \"Phase\"]]\n",
    "# m4"
   ]
  },
  {
   "cell_type": "code",
   "execution_count": 29,
   "id": "ea3b75a3-e786-4d7f-be84-f12fc58dcd05",
   "metadata": {},
   "outputs": [],
   "source": [
    "# m4[m4[\"GroupN\"] != m4[\"DX\"]]"
   ]
  },
  {
   "cell_type": "code",
   "execution_count": 30,
   "id": "149e3dc5-aced-4e41-8cd0-54f1f1e25561",
   "metadata": {},
   "outputs": [],
   "source": [
    "# m2[[\"Subject\", \"GroupN\", \"Group\", \"DX\", \"Phase\"]]"
   ]
  },
  {
   "cell_type": "code",
   "execution_count": 31,
   "id": "c638c649-969b-416a-b2e4-ef7f31b67063",
   "metadata": {},
   "outputs": [],
   "source": [
    "# m5 = pd.concat([m1,m3,m4])\n",
    "# i = m5[m5[\"Group\"] == m5[\"GroupN\"]]\n",
    "# i = i[i[\"Group\"] == i[\"DX\"]]"
   ]
  },
  {
   "cell_type": "code",
   "execution_count": 32,
   "id": "341ade32-d572-4550-92c2-4e9edd8d5704",
   "metadata": {},
   "outputs": [],
   "source": [
    "# i = i.drop_duplicates()"
   ]
  },
  {
   "cell_type": "code",
   "execution_count": 33,
   "id": "cbd0ba2a-5bf0-4a52-93d7-19bf1c20be76",
   "metadata": {},
   "outputs": [],
   "source": [
    "# i"
   ]
  },
  {
   "cell_type": "code",
   "execution_count": 34,
   "id": "0168ece6-5027-4b1d-b978-ea8d77a0c324",
   "metadata": {},
   "outputs": [],
   "source": [
    "# i[[\"Subject\", \"Group\", \"Phase\"]].to_csv(\"ground_truth.csv\")"
   ]
  },
  {
   "cell_type": "code",
   "execution_count": 35,
   "id": "324bd3df-f316-4033-8727-0c64b49b0c58",
   "metadata": {},
   "outputs": [],
   "source": [
    "# m.update(m5[~m5.index.duplicated(keep='first')])"
   ]
  },
  {
   "cell_type": "code",
   "execution_count": 36,
   "id": "47ac4c83-59df-48da-89bd-c43ad5790b7e",
   "metadata": {},
   "outputs": [],
   "source": [
    "# indexes = m.index"
   ]
  },
  {
   "cell_type": "code",
   "execution_count": 37,
   "id": "921ae1b1-5b87-4120-ba61-72d44ca8e746",
   "metadata": {},
   "outputs": [],
   "source": [
    "# #if none of the three diagnosis agree, then we set the value to -1\n",
    "# m[\"GROUP\"] = -1"
   ]
  },
  {
   "cell_type": "code",
   "execution_count": 38,
   "id": "56a53f45-886f-44a0-b352-31586f7de512",
   "metadata": {
    "tags": []
   },
   "outputs": [],
   "source": [
    "# for i in indexes:\n",
    "#     row = m.loc[i]\n",
    "#     if (row[\"GroupN\"] == row[\"Group\"]):\n",
    "#         val = row[\"GroupN\"]\n",
    "        \n",
    "#         m.loc[i, \"GROUP\"] = val\n",
    "#     elif (row[\"GroupN\"] == row[\"DX\"]):\n",
    "#         val = row[\"GroupN\"]\n",
    "#         m.loc[i, \"GROUP\"] = val\n",
    "        \n",
    "#     elif (row[\"Group\"] == row[\"DX\"]):\n",
    "#         val = row[\"Group\"]\n",
    "#         m.loc[i, \"GROUP\"] = val\n",
    "        "
   ]
  },
  {
   "cell_type": "code",
   "execution_count": 39,
   "id": "bbb55e5d-5d81-4b28-a5c7-b57a8c895eed",
   "metadata": {},
   "outputs": [],
   "source": [
    "# m5 = m5[~m5.index.duplicated(keep='first')]\n",
    "# m5"
   ]
  },
  {
   "cell_type": "code",
   "execution_count": 40,
   "id": "3686a6e9-2ed0-410b-be9d-ac24a3ca230f",
   "metadata": {},
   "outputs": [],
   "source": [
    "# m[m[\"GROUP\"] != -1]"
   ]
  },
  {
   "cell_type": "code",
   "execution_count": 82,
   "id": "553d0140-5c90-4210-8b74-c922f96ebf35",
   "metadata": {},
   "outputs": [],
   "source": [
    "m[[\"Subject\", \"GroupN\", \"DIAGNOSIS\", \"Phase\"]].to_csv(\"diagnosis_full.csv\")"
   ]
  }
 ],
 "metadata": {
  "kernelspec": {
   "display_name": "Python 3 (ipykernel)",
   "language": "python",
   "name": "python3"
  },
  "language_info": {
   "codemirror_mode": {
    "name": "ipython",
    "version": 3
   },
   "file_extension": ".py",
   "mimetype": "text/x-python",
   "name": "python",
   "nbconvert_exporter": "python",
   "pygments_lexer": "ipython3",
   "version": "3.10.6"
  }
 },
 "nbformat": 4,
 "nbformat_minor": 5
}
