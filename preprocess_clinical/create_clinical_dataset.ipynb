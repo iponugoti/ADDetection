{
 "cells": [
  {
   "cell_type": "code",
   "execution_count": 112,
   "id": "6cfd763c",
   "metadata": {},
   "outputs": [],
   "source": [
    "import pandas as pd\n",
    "import numpy as np\n",
    "from sklearn.model_selection import train_test_split\n",
    "from sklearn.preprocessing import StandardScaler\n",
    "from keras.models import Sequential\n",
    "from keras.layers import Dense,Dropout,MaxPooling1D, Flatten,BatchNormalization, GaussianNoise,Conv1D\n",
    "import matplotlib.pyplot as plt\n",
    "from tensorflow.keras.optimizers import Adam\n",
    "from tensorflow.keras.utils import to_categorical\n",
    "from sklearn.utils import compute_class_weight\n",
    "from tensorflow.keras import initializers\n",
    "from tensorflow.keras import regularizers\n",
    "from tensorflow.keras.models import Sequential, save_model, load_model"
   ]
  },
  {
   "cell_type": "code",
   "execution_count": 113,
   "id": "4b2bf397-16cf-4283-8235-13e6301bf49b",
   "metadata": {},
   "outputs": [],
   "source": [
    "#this was created in general/diagnosis_making notebook\n",
    "diag = pd.read_csv(\"ground_truth.csv\").drop(\"Unnamed: 0\", axis=1)"
   ]
  },
  {
   "cell_type": "markdown",
   "id": "1b4facbe-e460-4b9e-8295-0b159f336a89",
   "metadata": {},
   "source": [
    "Below we are combining several clinical datasets."
   ]
  },
  {
   "cell_type": "code",
   "execution_count": 114,
   "id": "fa4b7bb4-4f1c-4dfe-94f6-bff26f6e155c",
   "metadata": {},
   "outputs": [],
   "source": [
    "demo = pd.read_csv(\"PTDEMOG.csv\").rename(columns={\"PHASE\":\"Phase\"})"
   ]
  },
  {
   "cell_type": "code",
   "execution_count": 115,
   "id": "84188e78-fcfd-4bb2-ae93-8cba7dc6adea",
   "metadata": {},
   "outputs": [],
   "source": [
    "neuro = pd.read_csv(\"NEUROEXM.csv\").rename(columns={\"PHASE\":\"Phase\"})"
   ]
  },
  {
   "cell_type": "code",
   "execution_count": 116,
   "id": "dfe73dfa-d1c9-4a58-b644-d61cb74783d6",
   "metadata": {},
   "outputs": [
    {
     "data": {
      "text/plain": [
       "Index(['Phase', 'PTID', 'RID', 'VISCODE', 'VISCODE2', 'VISDATE', 'NXVISUAL',\n",
       "       'NXAUDITO', 'NXTREMOR', 'NXCONSCI', 'NXNERVE', 'NXMOTOR', 'NXFINGER',\n",
       "       'NXHEEL', 'NXSENSOR', 'NXTENDON', 'NXPLANTA', 'NXGAIT', 'NXOTHER',\n",
       "       'NXABNORM', 'ID', 'SITEID', 'USERDATE', 'USERDATE2',\n",
       "       'DD_CRF_VERSION_LABEL', 'LANGUAGE_CODE', 'HAS_QC_ERROR',\n",
       "       'update_stamp'],\n",
       "      dtype='object')"
      ]
     },
     "execution_count": 116,
     "metadata": {},
     "output_type": "execute_result"
    }
   ],
   "source": [
    "neuro.columns"
   ]
  },
  {
   "cell_type": "code",
   "execution_count": 117,
   "id": "e09e4f90-4b71-4eac-b523-e01a4d18d71c",
   "metadata": {},
   "outputs": [],
   "source": [
    "clinical = pd.read_csv(\"ADSP_PHC_COGN.csv\").rename(columns={\"PHASE\":\"Phase\"})"
   ]
  },
  {
   "cell_type": "code",
   "execution_count": 118,
   "id": "ef8c67b3-316b-4294-8af7-c70992d976c9",
   "metadata": {},
   "outputs": [
    {
     "data": {
      "text/html": [
       "<div>\n",
       "<style scoped>\n",
       "    .dataframe tbody tr th:only-of-type {\n",
       "        vertical-align: middle;\n",
       "    }\n",
       "\n",
       "    .dataframe tbody tr th {\n",
       "        vertical-align: top;\n",
       "    }\n",
       "\n",
       "    .dataframe thead th {\n",
       "        text-align: right;\n",
       "    }\n",
       "</style>\n",
       "<table border=\"1\" class=\"dataframe\">\n",
       "  <thead>\n",
       "    <tr style=\"text-align: right;\">\n",
       "      <th></th>\n",
       "      <th>Phase</th>\n",
       "      <th>PTID</th>\n",
       "      <th>RID</th>\n",
       "      <th>VISCODE</th>\n",
       "      <th>VISCODE2</th>\n",
       "      <th>EXAMDATE</th>\n",
       "      <th>DIAGNOSIS</th>\n",
       "      <th>DXNORM</th>\n",
       "      <th>DXNODEP</th>\n",
       "      <th>DXMCI</th>\n",
       "      <th>...</th>\n",
       "      <th>DXODES</th>\n",
       "      <th>DXCONFID</th>\n",
       "      <th>ID</th>\n",
       "      <th>SITEID</th>\n",
       "      <th>USERDATE</th>\n",
       "      <th>USERDATE2</th>\n",
       "      <th>DD_CRF_VERSION_LABEL</th>\n",
       "      <th>LANGUAGE_CODE</th>\n",
       "      <th>HAS_QC_ERROR</th>\n",
       "      <th>update_stamp</th>\n",
       "    </tr>\n",
       "  </thead>\n",
       "  <tbody>\n",
       "    <tr>\n",
       "      <th>0</th>\n",
       "      <td>ADNI1</td>\n",
       "      <td>011_S_0002</td>\n",
       "      <td>2</td>\n",
       "      <td>bl</td>\n",
       "      <td>bl</td>\n",
       "      <td>2005-09-29</td>\n",
       "      <td>1.0</td>\n",
       "      <td>1.0</td>\n",
       "      <td>-4.0</td>\n",
       "      <td>-4.0</td>\n",
       "      <td>...</td>\n",
       "      <td>-4.0</td>\n",
       "      <td>4.0</td>\n",
       "      <td>2</td>\n",
       "      <td>107</td>\n",
       "      <td>2005-10-01</td>\n",
       "      <td>NaN</td>\n",
       "      <td>NaN</td>\n",
       "      <td>NaN</td>\n",
       "      <td>NaN</td>\n",
       "      <td>2005-10-01 00:00:00.0</td>\n",
       "    </tr>\n",
       "    <tr>\n",
       "      <th>1</th>\n",
       "      <td>ADNI1</td>\n",
       "      <td>011_S_0003</td>\n",
       "      <td>3</td>\n",
       "      <td>bl</td>\n",
       "      <td>bl</td>\n",
       "      <td>2005-09-30</td>\n",
       "      <td>3.0</td>\n",
       "      <td>-4.0</td>\n",
       "      <td>-4.0</td>\n",
       "      <td>-4.0</td>\n",
       "      <td>...</td>\n",
       "      <td>-4.0</td>\n",
       "      <td>3.0</td>\n",
       "      <td>4</td>\n",
       "      <td>107</td>\n",
       "      <td>2005-10-01</td>\n",
       "      <td>NaN</td>\n",
       "      <td>NaN</td>\n",
       "      <td>NaN</td>\n",
       "      <td>NaN</td>\n",
       "      <td>2005-10-01 00:00:00.0</td>\n",
       "    </tr>\n",
       "    <tr>\n",
       "      <th>2</th>\n",
       "      <td>ADNI1</td>\n",
       "      <td>011_S_0005</td>\n",
       "      <td>5</td>\n",
       "      <td>bl</td>\n",
       "      <td>bl</td>\n",
       "      <td>2005-09-30</td>\n",
       "      <td>1.0</td>\n",
       "      <td>1.0</td>\n",
       "      <td>-4.0</td>\n",
       "      <td>-4.0</td>\n",
       "      <td>...</td>\n",
       "      <td>-4.0</td>\n",
       "      <td>4.0</td>\n",
       "      <td>6</td>\n",
       "      <td>107</td>\n",
       "      <td>2005-10-01</td>\n",
       "      <td>NaN</td>\n",
       "      <td>NaN</td>\n",
       "      <td>NaN</td>\n",
       "      <td>NaN</td>\n",
       "      <td>2005-10-01 00:00:00.0</td>\n",
       "    </tr>\n",
       "    <tr>\n",
       "      <th>3</th>\n",
       "      <td>ADNI1</td>\n",
       "      <td>011_S_0008</td>\n",
       "      <td>8</td>\n",
       "      <td>bl</td>\n",
       "      <td>bl</td>\n",
       "      <td>2005-09-30</td>\n",
       "      <td>1.0</td>\n",
       "      <td>1.0</td>\n",
       "      <td>-4.0</td>\n",
       "      <td>-4.0</td>\n",
       "      <td>...</td>\n",
       "      <td>-4.0</td>\n",
       "      <td>3.0</td>\n",
       "      <td>8</td>\n",
       "      <td>107</td>\n",
       "      <td>2005-10-01</td>\n",
       "      <td>NaN</td>\n",
       "      <td>NaN</td>\n",
       "      <td>NaN</td>\n",
       "      <td>NaN</td>\n",
       "      <td>2005-10-01 00:00:00.0</td>\n",
       "    </tr>\n",
       "    <tr>\n",
       "      <th>4</th>\n",
       "      <td>ADNI1</td>\n",
       "      <td>022_S_0007</td>\n",
       "      <td>7</td>\n",
       "      <td>bl</td>\n",
       "      <td>bl</td>\n",
       "      <td>2005-10-06</td>\n",
       "      <td>3.0</td>\n",
       "      <td>-4.0</td>\n",
       "      <td>-4.0</td>\n",
       "      <td>-4.0</td>\n",
       "      <td>...</td>\n",
       "      <td>-4.0</td>\n",
       "      <td>4.0</td>\n",
       "      <td>10</td>\n",
       "      <td>10</td>\n",
       "      <td>2005-10-06</td>\n",
       "      <td>NaN</td>\n",
       "      <td>NaN</td>\n",
       "      <td>NaN</td>\n",
       "      <td>NaN</td>\n",
       "      <td>2005-10-06 00:00:00.0</td>\n",
       "    </tr>\n",
       "  </tbody>\n",
       "</table>\n",
       "<p>5 rows × 41 columns</p>\n",
       "</div>"
      ],
      "text/plain": [
       "   Phase        PTID  RID VISCODE VISCODE2    EXAMDATE  DIAGNOSIS  DXNORM  \\\n",
       "0  ADNI1  011_S_0002    2      bl       bl  2005-09-29        1.0     1.0   \n",
       "1  ADNI1  011_S_0003    3      bl       bl  2005-09-30        3.0    -4.0   \n",
       "2  ADNI1  011_S_0005    5      bl       bl  2005-09-30        1.0     1.0   \n",
       "3  ADNI1  011_S_0008    8      bl       bl  2005-09-30        1.0     1.0   \n",
       "4  ADNI1  022_S_0007    7      bl       bl  2005-10-06        3.0    -4.0   \n",
       "\n",
       "   DXNODEP  DXMCI  ... DXODES  DXCONFID  ID  SITEID    USERDATE  USERDATE2  \\\n",
       "0     -4.0   -4.0  ...   -4.0       4.0   2     107  2005-10-01        NaN   \n",
       "1     -4.0   -4.0  ...   -4.0       3.0   4     107  2005-10-01        NaN   \n",
       "2     -4.0   -4.0  ...   -4.0       4.0   6     107  2005-10-01        NaN   \n",
       "3     -4.0   -4.0  ...   -4.0       3.0   8     107  2005-10-01        NaN   \n",
       "4     -4.0   -4.0  ...   -4.0       4.0  10      10  2005-10-06        NaN   \n",
       "\n",
       "   DD_CRF_VERSION_LABEL  LANGUAGE_CODE HAS_QC_ERROR           update_stamp  \n",
       "0                   NaN            NaN          NaN  2005-10-01 00:00:00.0  \n",
       "1                   NaN            NaN          NaN  2005-10-01 00:00:00.0  \n",
       "2                   NaN            NaN          NaN  2005-10-01 00:00:00.0  \n",
       "3                   NaN            NaN          NaN  2005-10-01 00:00:00.0  \n",
       "4                   NaN            NaN          NaN  2005-10-06 00:00:00.0  \n",
       "\n",
       "[5 rows x 41 columns]"
      ]
     },
     "execution_count": 118,
     "metadata": {},
     "output_type": "execute_result"
    }
   ],
   "source": [
    "clinical.head()"
   ]
  },
  {
   "cell_type": "code",
   "execution_count": 132,
   "id": "8174678d-bb3a-4257-a65c-9b5b7c329ddd",
   "metadata": {},
   "outputs": [],
   "source": [
    "# diag[\"Subject\"].value_counts()"
   ]
  },
  {
   "cell_type": "code",
   "execution_count": 120,
   "id": "dc0bfc71-fc78-4de4-b8ea-dcc6cc684cb6",
   "metadata": {},
   "outputs": [],
   "source": [
    "comb = pd.read_csv(\"DXSUM_PDXCONV_ADNIALL.csv\").rename(columns={\"PHASE\":\"Phase\"})[[\"RID\", \"PTID\" , \"Phase\"]]"
   ]
  },
  {
   "cell_type": "code",
   "execution_count": 121,
   "id": "c9606fab-0929-453f-9f5f-cbe935eba8d3",
   "metadata": {},
   "outputs": [],
   "source": [
    "m = comb.merge(demo, on = [\"RID\", \"Phase\"]).merge(neuro,on = [\"RID\", \"Phase\"])"
   ]
  },
  {
   "cell_type": "code",
   "execution_count": 122,
   "id": "7e54e0de",
   "metadata": {},
   "outputs": [],
   "source": [
    "m = m.rename(columns={\"PTID_x\":\"PTID\"})\n",
    "m = m.drop([\"PTID_y\"], axis=1)\n"
   ]
  },
  {
   "cell_type": "code",
   "execution_count": 123,
   "id": "c9451996",
   "metadata": {},
   "outputs": [],
   "source": [
    "m = m.merge(clinical,on = [\"RID\", \"Phase\"]).drop_duplicates()"
   ]
  },
  {
   "cell_type": "code",
   "execution_count": 124,
   "id": "237ecaa4-718c-499f-9083-57ed9a7ae1d9",
   "metadata": {},
   "outputs": [],
   "source": [
    "m.columns = [c[:-2] if str(c).endswith(('_x','_y')) else c for c in m.columns]\n",
    "\n",
    "m = m.loc[:,~m.columns.duplicated()]"
   ]
  },
  {
   "cell_type": "code",
   "execution_count": 125,
   "id": "9466e8ce-532f-44e2-86fc-7483dc16f232",
   "metadata": {},
   "outputs": [],
   "source": [
    "diag = diag.rename(columns = {\"Subject\": \"PTID\"})"
   ]
  },
  {
   "cell_type": "code",
   "execution_count": 126,
   "id": "4e3e6ca5-56c5-4298-b36f-1edf0b09c9c1",
   "metadata": {},
   "outputs": [],
   "source": [
    "m = m.merge(diag, on = [\"PTID\", \"Phase\"])"
   ]
  },
  {
   "cell_type": "code",
   "execution_count": 127,
   "id": "9ca5e7d1-f74b-49e4-ab98-66ac61788667",
   "metadata": {},
   "outputs": [
    {
     "data": {
      "text/plain": [
       "PTID\n",
       "067_S_4767     42\n",
       "067_S_4072     32\n",
       "141_S_0697     30\n",
       "131_S_0384     29\n",
       "116_S_0752     28\n",
       "               ..\n",
       "094_S_6122      1\n",
       "011_S_6130      1\n",
       "051_S_1338      1\n",
       "020_S_6140      1\n",
       "033_S_10107     1\n",
       "Name: count, Length: 3022, dtype: int64"
      ]
     },
     "execution_count": 127,
     "metadata": {},
     "output_type": "execute_result"
    }
   ],
   "source": [
    "m[\"PTID\"].value_counts()"
   ]
  },
  {
   "cell_type": "code",
   "execution_count": 133,
   "id": "4ee16034-93c9-41bb-88a9-d810a938b227",
   "metadata": {},
   "outputs": [
    {
     "data": {
      "text/html": [
       "<div>\n",
       "<style scoped>\n",
       "    .dataframe tbody tr th:only-of-type {\n",
       "        vertical-align: middle;\n",
       "    }\n",
       "\n",
       "    .dataframe tbody tr th {\n",
       "        vertical-align: top;\n",
       "    }\n",
       "\n",
       "    .dataframe thead th {\n",
       "        text-align: right;\n",
       "    }\n",
       "</style>\n",
       "<table border=\"1\" class=\"dataframe\">\n",
       "  <thead>\n",
       "    <tr style=\"text-align: right;\">\n",
       "      <th></th>\n",
       "      <th>RID</th>\n",
       "      <th>PTID</th>\n",
       "      <th>Phase</th>\n",
       "      <th>VISCODE</th>\n",
       "      <th>VISCODE2</th>\n",
       "      <th>VISDATE</th>\n",
       "      <th>PTSOURCE</th>\n",
       "      <th>PTGENDER</th>\n",
       "      <th>PTDOB</th>\n",
       "      <th>PTDOBYY</th>\n",
       "      <th>...</th>\n",
       "      <th>DXPARK</th>\n",
       "      <th>DXPDES</th>\n",
       "      <th>DXPCOG</th>\n",
       "      <th>DXPATYP</th>\n",
       "      <th>DXDEP</th>\n",
       "      <th>DXOTHDEM</th>\n",
       "      <th>DXODES</th>\n",
       "      <th>DXCONFID</th>\n",
       "      <th>GroupN</th>\n",
       "      <th>DIAGNOSIS_y</th>\n",
       "    </tr>\n",
       "  </thead>\n",
       "  <tbody>\n",
       "    <tr>\n",
       "      <th>0</th>\n",
       "      <td>2</td>\n",
       "      <td>011_S_0002</td>\n",
       "      <td>ADNI1</td>\n",
       "      <td>sc</td>\n",
       "      <td>sc</td>\n",
       "      <td>2005-08-17</td>\n",
       "      <td>1.0</td>\n",
       "      <td>1.0</td>\n",
       "      <td>04/1931</td>\n",
       "      <td>1931.0</td>\n",
       "      <td>...</td>\n",
       "      <td>-4.0</td>\n",
       "      <td>-4.0</td>\n",
       "      <td>-4.0</td>\n",
       "      <td>-4.0</td>\n",
       "      <td>NaN</td>\n",
       "      <td>-4.0</td>\n",
       "      <td>-4.0</td>\n",
       "      <td>4.0</td>\n",
       "      <td>1.0</td>\n",
       "      <td>1.0</td>\n",
       "    </tr>\n",
       "    <tr>\n",
       "      <th>1</th>\n",
       "      <td>2</td>\n",
       "      <td>011_S_0002</td>\n",
       "      <td>ADNI1</td>\n",
       "      <td>sc</td>\n",
       "      <td>sc</td>\n",
       "      <td>2005-08-17</td>\n",
       "      <td>1.0</td>\n",
       "      <td>1.0</td>\n",
       "      <td>04/1931</td>\n",
       "      <td>1931.0</td>\n",
       "      <td>...</td>\n",
       "      <td>-4.0</td>\n",
       "      <td>-4.0</td>\n",
       "      <td>-4.0</td>\n",
       "      <td>-4.0</td>\n",
       "      <td>NaN</td>\n",
       "      <td>-4.0</td>\n",
       "      <td>-4.0</td>\n",
       "      <td>3.0</td>\n",
       "      <td>1.0</td>\n",
       "      <td>1.0</td>\n",
       "    </tr>\n",
       "    <tr>\n",
       "      <th>2</th>\n",
       "      <td>2</td>\n",
       "      <td>011_S_0002</td>\n",
       "      <td>ADNI1</td>\n",
       "      <td>sc</td>\n",
       "      <td>sc</td>\n",
       "      <td>2005-08-17</td>\n",
       "      <td>1.0</td>\n",
       "      <td>1.0</td>\n",
       "      <td>04/1931</td>\n",
       "      <td>1931.0</td>\n",
       "      <td>...</td>\n",
       "      <td>-4.0</td>\n",
       "      <td>-4.0</td>\n",
       "      <td>-4.0</td>\n",
       "      <td>-4.0</td>\n",
       "      <td>NaN</td>\n",
       "      <td>-4.0</td>\n",
       "      <td>-4.0</td>\n",
       "      <td>4.0</td>\n",
       "      <td>1.0</td>\n",
       "      <td>1.0</td>\n",
       "    </tr>\n",
       "    <tr>\n",
       "      <th>3</th>\n",
       "      <td>3</td>\n",
       "      <td>011_S_0003</td>\n",
       "      <td>ADNI1</td>\n",
       "      <td>sc</td>\n",
       "      <td>sc</td>\n",
       "      <td>2005-08-18</td>\n",
       "      <td>1.0</td>\n",
       "      <td>1.0</td>\n",
       "      <td>05/1924</td>\n",
       "      <td>1924.0</td>\n",
       "      <td>...</td>\n",
       "      <td>-4.0</td>\n",
       "      <td>-4.0</td>\n",
       "      <td>-4.0</td>\n",
       "      <td>-4.0</td>\n",
       "      <td>NaN</td>\n",
       "      <td>-4.0</td>\n",
       "      <td>-4.0</td>\n",
       "      <td>3.0</td>\n",
       "      <td>2.0</td>\n",
       "      <td>3.0</td>\n",
       "    </tr>\n",
       "    <tr>\n",
       "      <th>4</th>\n",
       "      <td>3</td>\n",
       "      <td>011_S_0003</td>\n",
       "      <td>ADNI1</td>\n",
       "      <td>sc</td>\n",
       "      <td>sc</td>\n",
       "      <td>2005-08-18</td>\n",
       "      <td>1.0</td>\n",
       "      <td>1.0</td>\n",
       "      <td>05/1924</td>\n",
       "      <td>1924.0</td>\n",
       "      <td>...</td>\n",
       "      <td>-4.0</td>\n",
       "      <td>-4.0</td>\n",
       "      <td>-4.0</td>\n",
       "      <td>-4.0</td>\n",
       "      <td>NaN</td>\n",
       "      <td>-4.0</td>\n",
       "      <td>-4.0</td>\n",
       "      <td>4.0</td>\n",
       "      <td>2.0</td>\n",
       "      <td>3.0</td>\n",
       "    </tr>\n",
       "  </tbody>\n",
       "</table>\n",
       "<p>5 rows × 124 columns</p>\n",
       "</div>"
      ],
      "text/plain": [
       "   RID        PTID  Phase VISCODE VISCODE2     VISDATE  PTSOURCE  PTGENDER  \\\n",
       "0    2  011_S_0002  ADNI1      sc       sc  2005-08-17       1.0       1.0   \n",
       "1    2  011_S_0002  ADNI1      sc       sc  2005-08-17       1.0       1.0   \n",
       "2    2  011_S_0002  ADNI1      sc       sc  2005-08-17       1.0       1.0   \n",
       "3    3  011_S_0003  ADNI1      sc       sc  2005-08-18       1.0       1.0   \n",
       "4    3  011_S_0003  ADNI1      sc       sc  2005-08-18       1.0       1.0   \n",
       "\n",
       "     PTDOB  PTDOBYY  ...  DXPARK  DXPDES  DXPCOG  DXPATYP  DXDEP  DXOTHDEM  \\\n",
       "0  04/1931   1931.0  ...    -4.0    -4.0    -4.0     -4.0    NaN      -4.0   \n",
       "1  04/1931   1931.0  ...    -4.0    -4.0    -4.0     -4.0    NaN      -4.0   \n",
       "2  04/1931   1931.0  ...    -4.0    -4.0    -4.0     -4.0    NaN      -4.0   \n",
       "3  05/1924   1924.0  ...    -4.0    -4.0    -4.0     -4.0    NaN      -4.0   \n",
       "4  05/1924   1924.0  ...    -4.0    -4.0    -4.0     -4.0    NaN      -4.0   \n",
       "\n",
       "   DXODES  DXCONFID  GroupN  DIAGNOSIS_y  \n",
       "0    -4.0       4.0     1.0          1.0  \n",
       "1    -4.0       3.0     1.0          1.0  \n",
       "2    -4.0       4.0     1.0          1.0  \n",
       "3    -4.0       3.0     2.0          3.0  \n",
       "4    -4.0       4.0     2.0          3.0  \n",
       "\n",
       "[5 rows x 124 columns]"
      ]
     },
     "execution_count": 133,
     "metadata": {},
     "output_type": "execute_result"
    }
   ],
   "source": [
    "t = m\n",
    "t.head()"
   ]
  },
  {
   "cell_type": "code",
   "execution_count": 129,
   "id": "34bfedf8-9f93-4d34-83b6-cdf48c517115",
   "metadata": {},
   "outputs": [
    {
     "ename": "KeyError",
     "evalue": "\"['PTDOBMM', 'DX'] not found in axis\"",
     "output_type": "error",
     "traceback": [
      "\u001b[0;31m---------------------------------------------------------------------------\u001b[0m",
      "\u001b[0;31mKeyError\u001b[0m                                  Traceback (most recent call last)",
      "Cell \u001b[0;32mIn[129], line 1\u001b[0m\n\u001b[0;32m----> 1\u001b[0m t \u001b[38;5;241m=\u001b[39m \u001b[43mt\u001b[49m\u001b[38;5;241;43m.\u001b[39;49m\u001b[43mdrop\u001b[49m\u001b[43m(\u001b[49m\u001b[43m[\u001b[49m\u001b[38;5;124;43m\"\u001b[39;49m\u001b[38;5;124;43mID\u001b[39;49m\u001b[38;5;124;43m\"\u001b[39;49m\u001b[43m,\u001b[49m\u001b[43m  \u001b[49m\u001b[38;5;124;43m\"\u001b[39;49m\u001b[38;5;124;43mSITEID\u001b[39;49m\u001b[38;5;124;43m\"\u001b[39;49m\u001b[43m,\u001b[49m\u001b[43m \u001b[49m\u001b[38;5;124;43m\"\u001b[39;49m\u001b[38;5;124;43mVISCODE\u001b[39;49m\u001b[38;5;124;43m\"\u001b[39;49m\u001b[43m,\u001b[49m\u001b[43m \u001b[49m\u001b[38;5;124;43m\"\u001b[39;49m\u001b[38;5;124;43mVISCODE2\u001b[39;49m\u001b[38;5;124;43m\"\u001b[39;49m\u001b[43m,\u001b[49m\u001b[43m \u001b[49m\u001b[38;5;124;43m\"\u001b[39;49m\u001b[38;5;124;43mUSERDATE\u001b[39;49m\u001b[38;5;124;43m\"\u001b[39;49m\u001b[43m,\u001b[49m\u001b[43m \u001b[49m\u001b[38;5;124;43m\"\u001b[39;49m\u001b[38;5;124;43mUSERDATE2\u001b[39;49m\u001b[38;5;124;43m\"\u001b[39;49m\u001b[43m,\u001b[49m\n\u001b[1;32m      2\u001b[0m \u001b[43m            \u001b[49m\u001b[38;5;124;43m\"\u001b[39;49m\u001b[38;5;124;43mupdate_stamp\u001b[39;49m\u001b[38;5;124;43m\"\u001b[39;49m\u001b[43m,\u001b[49m\u001b[43m  \u001b[49m\u001b[38;5;124;43m\"\u001b[39;49m\u001b[38;5;124;43mPTSOURCE\u001b[39;49m\u001b[38;5;124;43m\"\u001b[39;49m\u001b[43m,\u001b[49m\u001b[43m \u001b[49m\u001b[38;5;124;43m\"\u001b[39;49m\u001b[38;5;124;43mPTDOBMM\u001b[39;49m\u001b[38;5;124;43m\"\u001b[39;49m\u001b[43m,\u001b[49m\u001b[38;5;124;43m\"\u001b[39;49m\u001b[38;5;124;43mDX\u001b[39;49m\u001b[38;5;124;43m\"\u001b[39;49m\u001b[43m]\u001b[49m\u001b[43m,\u001b[49m\u001b[43m \u001b[49m\u001b[43maxis\u001b[49m\u001b[38;5;241;43m=\u001b[39;49m\u001b[38;5;241;43m1\u001b[39;49m\u001b[43m)\u001b[49m \n",
      "File \u001b[0;32m~/anaconda3/envs/csci1470/lib/python3.10/site-packages/pandas/core/frame.py:5568\u001b[0m, in \u001b[0;36mDataFrame.drop\u001b[0;34m(self, labels, axis, index, columns, level, inplace, errors)\u001b[0m\n\u001b[1;32m   5420\u001b[0m \u001b[38;5;28;01mdef\u001b[39;00m \u001b[38;5;21mdrop\u001b[39m(\n\u001b[1;32m   5421\u001b[0m     \u001b[38;5;28mself\u001b[39m,\n\u001b[1;32m   5422\u001b[0m     labels: IndexLabel \u001b[38;5;241m|\u001b[39m \u001b[38;5;28;01mNone\u001b[39;00m \u001b[38;5;241m=\u001b[39m \u001b[38;5;28;01mNone\u001b[39;00m,\n\u001b[0;32m   (...)\u001b[0m\n\u001b[1;32m   5429\u001b[0m     errors: IgnoreRaise \u001b[38;5;241m=\u001b[39m \u001b[38;5;124m\"\u001b[39m\u001b[38;5;124mraise\u001b[39m\u001b[38;5;124m\"\u001b[39m,\n\u001b[1;32m   5430\u001b[0m ) \u001b[38;5;241m-\u001b[39m\u001b[38;5;241m>\u001b[39m DataFrame \u001b[38;5;241m|\u001b[39m \u001b[38;5;28;01mNone\u001b[39;00m:\n\u001b[1;32m   5431\u001b[0m \u001b[38;5;250m    \u001b[39m\u001b[38;5;124;03m\"\"\"\u001b[39;00m\n\u001b[1;32m   5432\u001b[0m \u001b[38;5;124;03m    Drop specified labels from rows or columns.\u001b[39;00m\n\u001b[1;32m   5433\u001b[0m \n\u001b[0;32m   (...)\u001b[0m\n\u001b[1;32m   5566\u001b[0m \u001b[38;5;124;03m            weight  1.0     0.8\u001b[39;00m\n\u001b[1;32m   5567\u001b[0m \u001b[38;5;124;03m    \"\"\"\u001b[39;00m\n\u001b[0;32m-> 5568\u001b[0m     \u001b[38;5;28;01mreturn\u001b[39;00m \u001b[38;5;28;43msuper\u001b[39;49m\u001b[43m(\u001b[49m\u001b[43m)\u001b[49m\u001b[38;5;241;43m.\u001b[39;49m\u001b[43mdrop\u001b[49m\u001b[43m(\u001b[49m\n\u001b[1;32m   5569\u001b[0m \u001b[43m        \u001b[49m\u001b[43mlabels\u001b[49m\u001b[38;5;241;43m=\u001b[39;49m\u001b[43mlabels\u001b[49m\u001b[43m,\u001b[49m\n\u001b[1;32m   5570\u001b[0m \u001b[43m        \u001b[49m\u001b[43maxis\u001b[49m\u001b[38;5;241;43m=\u001b[39;49m\u001b[43maxis\u001b[49m\u001b[43m,\u001b[49m\n\u001b[1;32m   5571\u001b[0m \u001b[43m        \u001b[49m\u001b[43mindex\u001b[49m\u001b[38;5;241;43m=\u001b[39;49m\u001b[43mindex\u001b[49m\u001b[43m,\u001b[49m\n\u001b[1;32m   5572\u001b[0m \u001b[43m        \u001b[49m\u001b[43mcolumns\u001b[49m\u001b[38;5;241;43m=\u001b[39;49m\u001b[43mcolumns\u001b[49m\u001b[43m,\u001b[49m\n\u001b[1;32m   5573\u001b[0m \u001b[43m        \u001b[49m\u001b[43mlevel\u001b[49m\u001b[38;5;241;43m=\u001b[39;49m\u001b[43mlevel\u001b[49m\u001b[43m,\u001b[49m\n\u001b[1;32m   5574\u001b[0m \u001b[43m        \u001b[49m\u001b[43minplace\u001b[49m\u001b[38;5;241;43m=\u001b[39;49m\u001b[43minplace\u001b[49m\u001b[43m,\u001b[49m\n\u001b[1;32m   5575\u001b[0m \u001b[43m        \u001b[49m\u001b[43merrors\u001b[49m\u001b[38;5;241;43m=\u001b[39;49m\u001b[43merrors\u001b[49m\u001b[43m,\u001b[49m\n\u001b[1;32m   5576\u001b[0m \u001b[43m    \u001b[49m\u001b[43m)\u001b[49m\n",
      "File \u001b[0;32m~/anaconda3/envs/csci1470/lib/python3.10/site-packages/pandas/core/generic.py:4782\u001b[0m, in \u001b[0;36mNDFrame.drop\u001b[0;34m(self, labels, axis, index, columns, level, inplace, errors)\u001b[0m\n\u001b[1;32m   4780\u001b[0m \u001b[38;5;28;01mfor\u001b[39;00m axis, labels \u001b[38;5;129;01min\u001b[39;00m axes\u001b[38;5;241m.\u001b[39mitems():\n\u001b[1;32m   4781\u001b[0m     \u001b[38;5;28;01mif\u001b[39;00m labels \u001b[38;5;129;01mis\u001b[39;00m \u001b[38;5;129;01mnot\u001b[39;00m \u001b[38;5;28;01mNone\u001b[39;00m:\n\u001b[0;32m-> 4782\u001b[0m         obj \u001b[38;5;241m=\u001b[39m \u001b[43mobj\u001b[49m\u001b[38;5;241;43m.\u001b[39;49m\u001b[43m_drop_axis\u001b[49m\u001b[43m(\u001b[49m\u001b[43mlabels\u001b[49m\u001b[43m,\u001b[49m\u001b[43m \u001b[49m\u001b[43maxis\u001b[49m\u001b[43m,\u001b[49m\u001b[43m \u001b[49m\u001b[43mlevel\u001b[49m\u001b[38;5;241;43m=\u001b[39;49m\u001b[43mlevel\u001b[49m\u001b[43m,\u001b[49m\u001b[43m \u001b[49m\u001b[43merrors\u001b[49m\u001b[38;5;241;43m=\u001b[39;49m\u001b[43merrors\u001b[49m\u001b[43m)\u001b[49m\n\u001b[1;32m   4784\u001b[0m \u001b[38;5;28;01mif\u001b[39;00m inplace:\n\u001b[1;32m   4785\u001b[0m     \u001b[38;5;28mself\u001b[39m\u001b[38;5;241m.\u001b[39m_update_inplace(obj)\n",
      "File \u001b[0;32m~/anaconda3/envs/csci1470/lib/python3.10/site-packages/pandas/core/generic.py:4824\u001b[0m, in \u001b[0;36mNDFrame._drop_axis\u001b[0;34m(self, labels, axis, level, errors, only_slice)\u001b[0m\n\u001b[1;32m   4822\u001b[0m         new_axis \u001b[38;5;241m=\u001b[39m axis\u001b[38;5;241m.\u001b[39mdrop(labels, level\u001b[38;5;241m=\u001b[39mlevel, errors\u001b[38;5;241m=\u001b[39merrors)\n\u001b[1;32m   4823\u001b[0m     \u001b[38;5;28;01melse\u001b[39;00m:\n\u001b[0;32m-> 4824\u001b[0m         new_axis \u001b[38;5;241m=\u001b[39m \u001b[43maxis\u001b[49m\u001b[38;5;241;43m.\u001b[39;49m\u001b[43mdrop\u001b[49m\u001b[43m(\u001b[49m\u001b[43mlabels\u001b[49m\u001b[43m,\u001b[49m\u001b[43m \u001b[49m\u001b[43merrors\u001b[49m\u001b[38;5;241;43m=\u001b[39;49m\u001b[43merrors\u001b[49m\u001b[43m)\u001b[49m\n\u001b[1;32m   4825\u001b[0m     indexer \u001b[38;5;241m=\u001b[39m axis\u001b[38;5;241m.\u001b[39mget_indexer(new_axis)\n\u001b[1;32m   4827\u001b[0m \u001b[38;5;66;03m# Case for non-unique axis\u001b[39;00m\n\u001b[1;32m   4828\u001b[0m \u001b[38;5;28;01melse\u001b[39;00m:\n",
      "File \u001b[0;32m~/anaconda3/envs/csci1470/lib/python3.10/site-packages/pandas/core/indexes/base.py:7069\u001b[0m, in \u001b[0;36mIndex.drop\u001b[0;34m(self, labels, errors)\u001b[0m\n\u001b[1;32m   7067\u001b[0m \u001b[38;5;28;01mif\u001b[39;00m mask\u001b[38;5;241m.\u001b[39many():\n\u001b[1;32m   7068\u001b[0m     \u001b[38;5;28;01mif\u001b[39;00m errors \u001b[38;5;241m!=\u001b[39m \u001b[38;5;124m\"\u001b[39m\u001b[38;5;124mignore\u001b[39m\u001b[38;5;124m\"\u001b[39m:\n\u001b[0;32m-> 7069\u001b[0m         \u001b[38;5;28;01mraise\u001b[39;00m \u001b[38;5;167;01mKeyError\u001b[39;00m(\u001b[38;5;124mf\u001b[39m\u001b[38;5;124m\"\u001b[39m\u001b[38;5;132;01m{\u001b[39;00mlabels[mask]\u001b[38;5;241m.\u001b[39mtolist()\u001b[38;5;132;01m}\u001b[39;00m\u001b[38;5;124m not found in axis\u001b[39m\u001b[38;5;124m\"\u001b[39m)\n\u001b[1;32m   7070\u001b[0m     indexer \u001b[38;5;241m=\u001b[39m indexer[\u001b[38;5;241m~\u001b[39mmask]\n\u001b[1;32m   7071\u001b[0m \u001b[38;5;28;01mreturn\u001b[39;00m \u001b[38;5;28mself\u001b[39m\u001b[38;5;241m.\u001b[39mdelete(indexer)\n",
      "\u001b[0;31mKeyError\u001b[0m: \"['PTDOBMM', 'DX'] not found in axis\""
     ]
    }
   ],
   "source": [
    "t = t.drop([\"ID\",  \"SITEID\", \"VISCODE\", \"VISCODE2\", \"USERDATE\", \"USERDATE2\",\n",
    "            \"update_stamp\",  \"PTSOURCE\", \"PTDOBMM\",\"DX\"], axis=1) "
   ]
  },
  {
   "cell_type": "code",
   "execution_count": null,
   "id": "eb94d03a-a0dc-4579-bddc-e7795e23b779",
   "metadata": {},
   "outputs": [],
   "source": [
    "t.columns"
   ]
  },
  {
   "cell_type": "code",
   "execution_count": null,
   "id": "e142078e-7625-445c-a937-c4e639f3c119",
   "metadata": {},
   "outputs": [],
   "source": [
    "t = t.fillna(-4)\n",
    "t = t.replace(\"-4\", -4)\n",
    "cols_to_delete = t.columns[(t == -4).sum()/len(t) > .70]\n",
    "t.drop(cols_to_delete, axis = 1, inplace = True)"
   ]
  },
  {
   "cell_type": "code",
   "execution_count": null,
   "id": "533b3163-9c32-44a2-ad26-a7507780cf9c",
   "metadata": {},
   "outputs": [],
   "source": [
    "len(t.columns)"
   ]
  },
  {
   "cell_type": "code",
   "execution_count": null,
   "id": "f1421723-cf80-42ce-b884-6ce990c69b44",
   "metadata": {},
   "outputs": [],
   "source": [
    "t[\"PTWORK\"] = t[\"PTWORK\"].str.lower().str.replace(\"housewife\", \"homemaker\").str.replace(\"rn\", \"nurse\").str.replace(\"bookeeper\",\n",
    "                                                                                                                   \"bookkeeper\").str.replace(\"cpa\", \"accounting\")"
   ]
  },
  {
   "cell_type": "code",
   "execution_count": null,
   "id": "cb11101b-23b3-4311-8cdd-8b98aa460204",
   "metadata": {},
   "outputs": [],
   "source": [
    "t[\"PTWORK\"] = t[\"PTWORK\"].fillna(\"-4\").astype(str)"
   ]
  },
  {
   "cell_type": "code",
   "execution_count": null,
   "id": "f09c3b99-f2c0-45c2-8009-cb9fc740084a",
   "metadata": {
    "scrolled": true,
    "tags": []
   },
   "outputs": [
    {
     "ename": "AttributeError",
     "evalue": "Can only use .str accessor with string values!",
     "output_type": "error",
     "traceback": [
      "\u001b[0;31m---------------------------------------------------------------------------\u001b[0m",
      "\u001b[0;31mAttributeError\u001b[0m                            Traceback (most recent call last)",
      "Cell \u001b[0;32mIn[83], line 1\u001b[0m\n\u001b[0;32m----> 1\u001b[0m t[\u001b[38;5;124m'\u001b[39m\u001b[38;5;124mPTWORK\u001b[39m\u001b[38;5;124m'\u001b[39m] \u001b[38;5;241m=\u001b[39m \u001b[43mt\u001b[49m\u001b[43m[\u001b[49m\u001b[38;5;124;43m'\u001b[39;49m\u001b[38;5;124;43mPTWORK\u001b[39;49m\u001b[38;5;124;43m'\u001b[39;49m\u001b[43m]\u001b[49m\u001b[38;5;241;43m.\u001b[39;49m\u001b[43mstr\u001b[49m\u001b[38;5;241m.\u001b[39mreplace(\u001b[38;5;124mr\u001b[39m\u001b[38;5;124m'\u001b[39m\u001b[38;5;124m(^.*teach.*$)\u001b[39m\u001b[38;5;124m'\u001b[39m, \u001b[38;5;124m'\u001b[39m\u001b[38;5;124meducation\u001b[39m\u001b[38;5;124m'\u001b[39m)\n\u001b[1;32m      2\u001b[0m t[\u001b[38;5;124m'\u001b[39m\u001b[38;5;124mPTWORK\u001b[39m\u001b[38;5;124m'\u001b[39m] \u001b[38;5;241m=\u001b[39m t[\u001b[38;5;124m'\u001b[39m\u001b[38;5;124mPTWORK\u001b[39m\u001b[38;5;124m'\u001b[39m]\u001b[38;5;241m.\u001b[39mstr\u001b[38;5;241m.\u001b[39mreplace(\u001b[38;5;124mr\u001b[39m\u001b[38;5;124m'\u001b[39m\u001b[38;5;124m(^.*bookkeep.*$)\u001b[39m\u001b[38;5;124m'\u001b[39m, \u001b[38;5;124m'\u001b[39m\u001b[38;5;124mbookkeeper\u001b[39m\u001b[38;5;124m'\u001b[39m)\n\u001b[1;32m      3\u001b[0m t[\u001b[38;5;124m'\u001b[39m\u001b[38;5;124mPTWORK\u001b[39m\u001b[38;5;124m'\u001b[39m] \u001b[38;5;241m=\u001b[39m t[\u001b[38;5;124m'\u001b[39m\u001b[38;5;124mPTWORK\u001b[39m\u001b[38;5;124m'\u001b[39m]\u001b[38;5;241m.\u001b[39mstr\u001b[38;5;241m.\u001b[39mreplace(\u001b[38;5;124mr\u001b[39m\u001b[38;5;124m'\u001b[39m\u001b[38;5;124m(^.*wife.*$)\u001b[39m\u001b[38;5;124m'\u001b[39m, \u001b[38;5;124m'\u001b[39m\u001b[38;5;124mhomemaker\u001b[39m\u001b[38;5;124m'\u001b[39m)\n",
      "File \u001b[0;32m~/anaconda3/envs/csci1470/lib/python3.10/site-packages/pandas/core/generic.py:6293\u001b[0m, in \u001b[0;36mNDFrame.__getattr__\u001b[0;34m(self, name)\u001b[0m\n\u001b[1;32m   6286\u001b[0m \u001b[38;5;28;01mif\u001b[39;00m (\n\u001b[1;32m   6287\u001b[0m     name \u001b[38;5;129;01mnot\u001b[39;00m \u001b[38;5;129;01min\u001b[39;00m \u001b[38;5;28mself\u001b[39m\u001b[38;5;241m.\u001b[39m_internal_names_set\n\u001b[1;32m   6288\u001b[0m     \u001b[38;5;129;01mand\u001b[39;00m name \u001b[38;5;129;01mnot\u001b[39;00m \u001b[38;5;129;01min\u001b[39;00m \u001b[38;5;28mself\u001b[39m\u001b[38;5;241m.\u001b[39m_metadata\n\u001b[1;32m   6289\u001b[0m     \u001b[38;5;129;01mand\u001b[39;00m name \u001b[38;5;129;01mnot\u001b[39;00m \u001b[38;5;129;01min\u001b[39;00m \u001b[38;5;28mself\u001b[39m\u001b[38;5;241m.\u001b[39m_accessors\n\u001b[1;32m   6290\u001b[0m     \u001b[38;5;129;01mand\u001b[39;00m \u001b[38;5;28mself\u001b[39m\u001b[38;5;241m.\u001b[39m_info_axis\u001b[38;5;241m.\u001b[39m_can_hold_identifiers_and_holds_name(name)\n\u001b[1;32m   6291\u001b[0m ):\n\u001b[1;32m   6292\u001b[0m     \u001b[38;5;28;01mreturn\u001b[39;00m \u001b[38;5;28mself\u001b[39m[name]\n\u001b[0;32m-> 6293\u001b[0m \u001b[38;5;28;01mreturn\u001b[39;00m \u001b[38;5;28;43mobject\u001b[39;49m\u001b[38;5;241;43m.\u001b[39;49m\u001b[38;5;21;43m__getattribute__\u001b[39;49m\u001b[43m(\u001b[49m\u001b[38;5;28;43mself\u001b[39;49m\u001b[43m,\u001b[49m\u001b[43m \u001b[49m\u001b[43mname\u001b[49m\u001b[43m)\u001b[49m\n",
      "File \u001b[0;32m~/anaconda3/envs/csci1470/lib/python3.10/site-packages/pandas/core/accessor.py:224\u001b[0m, in \u001b[0;36mCachedAccessor.__get__\u001b[0;34m(self, obj, cls)\u001b[0m\n\u001b[1;32m    221\u001b[0m \u001b[38;5;28;01mif\u001b[39;00m obj \u001b[38;5;129;01mis\u001b[39;00m \u001b[38;5;28;01mNone\u001b[39;00m:\n\u001b[1;32m    222\u001b[0m     \u001b[38;5;66;03m# we're accessing the attribute of the class, i.e., Dataset.geo\u001b[39;00m\n\u001b[1;32m    223\u001b[0m     \u001b[38;5;28;01mreturn\u001b[39;00m \u001b[38;5;28mself\u001b[39m\u001b[38;5;241m.\u001b[39m_accessor\n\u001b[0;32m--> 224\u001b[0m accessor_obj \u001b[38;5;241m=\u001b[39m \u001b[38;5;28;43mself\u001b[39;49m\u001b[38;5;241;43m.\u001b[39;49m\u001b[43m_accessor\u001b[49m\u001b[43m(\u001b[49m\u001b[43mobj\u001b[49m\u001b[43m)\u001b[49m\n\u001b[1;32m    225\u001b[0m \u001b[38;5;66;03m# Replace the property with the accessor object. Inspired by:\u001b[39;00m\n\u001b[1;32m    226\u001b[0m \u001b[38;5;66;03m# https://www.pydanny.com/cached-property.html\u001b[39;00m\n\u001b[1;32m    227\u001b[0m \u001b[38;5;66;03m# We need to use object.__setattr__ because we overwrite __setattr__ on\u001b[39;00m\n\u001b[1;32m    228\u001b[0m \u001b[38;5;66;03m# NDFrame\u001b[39;00m\n\u001b[1;32m    229\u001b[0m \u001b[38;5;28mobject\u001b[39m\u001b[38;5;241m.\u001b[39m\u001b[38;5;21m__setattr__\u001b[39m(obj, \u001b[38;5;28mself\u001b[39m\u001b[38;5;241m.\u001b[39m_name, accessor_obj)\n",
      "File \u001b[0;32m~/anaconda3/envs/csci1470/lib/python3.10/site-packages/pandas/core/strings/accessor.py:191\u001b[0m, in \u001b[0;36mStringMethods.__init__\u001b[0;34m(self, data)\u001b[0m\n\u001b[1;32m    188\u001b[0m \u001b[38;5;28;01mdef\u001b[39;00m \u001b[38;5;21m__init__\u001b[39m(\u001b[38;5;28mself\u001b[39m, data) \u001b[38;5;241m-\u001b[39m\u001b[38;5;241m>\u001b[39m \u001b[38;5;28;01mNone\u001b[39;00m:\n\u001b[1;32m    189\u001b[0m     \u001b[38;5;28;01mfrom\u001b[39;00m \u001b[38;5;21;01mpandas\u001b[39;00m\u001b[38;5;21;01m.\u001b[39;00m\u001b[38;5;21;01mcore\u001b[39;00m\u001b[38;5;21;01m.\u001b[39;00m\u001b[38;5;21;01marrays\u001b[39;00m\u001b[38;5;21;01m.\u001b[39;00m\u001b[38;5;21;01mstring_\u001b[39;00m \u001b[38;5;28;01mimport\u001b[39;00m StringDtype\n\u001b[0;32m--> 191\u001b[0m     \u001b[38;5;28mself\u001b[39m\u001b[38;5;241m.\u001b[39m_inferred_dtype \u001b[38;5;241m=\u001b[39m \u001b[38;5;28;43mself\u001b[39;49m\u001b[38;5;241;43m.\u001b[39;49m\u001b[43m_validate\u001b[49m\u001b[43m(\u001b[49m\u001b[43mdata\u001b[49m\u001b[43m)\u001b[49m\n\u001b[1;32m    192\u001b[0m     \u001b[38;5;28mself\u001b[39m\u001b[38;5;241m.\u001b[39m_is_categorical \u001b[38;5;241m=\u001b[39m \u001b[38;5;28misinstance\u001b[39m(data\u001b[38;5;241m.\u001b[39mdtype, CategoricalDtype)\n\u001b[1;32m    193\u001b[0m     \u001b[38;5;28mself\u001b[39m\u001b[38;5;241m.\u001b[39m_is_string \u001b[38;5;241m=\u001b[39m \u001b[38;5;28misinstance\u001b[39m(data\u001b[38;5;241m.\u001b[39mdtype, StringDtype)\n",
      "File \u001b[0;32m~/anaconda3/envs/csci1470/lib/python3.10/site-packages/pandas/core/strings/accessor.py:245\u001b[0m, in \u001b[0;36mStringMethods._validate\u001b[0;34m(data)\u001b[0m\n\u001b[1;32m    242\u001b[0m inferred_dtype \u001b[38;5;241m=\u001b[39m lib\u001b[38;5;241m.\u001b[39minfer_dtype(values, skipna\u001b[38;5;241m=\u001b[39m\u001b[38;5;28;01mTrue\u001b[39;00m)\n\u001b[1;32m    244\u001b[0m \u001b[38;5;28;01mif\u001b[39;00m inferred_dtype \u001b[38;5;129;01mnot\u001b[39;00m \u001b[38;5;129;01min\u001b[39;00m allowed_types:\n\u001b[0;32m--> 245\u001b[0m     \u001b[38;5;28;01mraise\u001b[39;00m \u001b[38;5;167;01mAttributeError\u001b[39;00m(\u001b[38;5;124m\"\u001b[39m\u001b[38;5;124mCan only use .str accessor with string values!\u001b[39m\u001b[38;5;124m\"\u001b[39m)\n\u001b[1;32m    246\u001b[0m \u001b[38;5;28;01mreturn\u001b[39;00m inferred_dtype\n",
      "\u001b[0;31mAttributeError\u001b[0m: Can only use .str accessor with string values!"
     ]
    }
   ],
   "source": [
    "t['PTWORK'] = t['PTWORK'].str.replace(r'(^.*teach.*$)', 'education')\n",
    "t['PTWORK'] = t['PTWORK'].str.replace(r'(^.*bookkeep.*$)', 'bookkeeper')\n",
    "t['PTWORK'] = t['PTWORK'].str.replace(r'(^.*wife.*$)', 'homemaker')\n",
    "t['PTWORK'] = t['PTWORK'].str.replace(r'(^.*educat.*$)', 'education')\n",
    "t['PTWORK'] = t['PTWORK'].str.replace(r'(^.*engineer.*$)', 'engineer')\n",
    "t['PTWORK'] = t['PTWORK'].str.replace(r'(^.*eingineering.*$)', 'engineer') \n",
    "t['PTWORK'] = t['PTWORK'].str.replace(r'(^.*computer programmer.*$)', 'engineer') \n",
    "t['PTWORK'] = t['PTWORK'].str.replace(r'(^.*nurs.*$)', 'nurse')\n",
    "t['PTWORK'] = t['PTWORK'].str.replace(r'(^.*manage.*$)', 'managment')\n",
    "t['PTWORK'] = t['PTWORK'].str.replace(r'(^.*therapist.*$)', 'therapist')\n",
    "t['PTWORK'] = t['PTWORK'].str.replace(r'(^.*sales.*$)', 'sales')\n",
    "t['PTWORK'] = t['PTWORK'].str.replace(r'(^.*admin.*$)', 'admin')\n",
    "t['PTWORK'] = t['PTWORK'].str.replace(r'(^.*account.*$)', 'accounting')\n",
    "t['PTWORK'] = t['PTWORK'].str.replace(r'(^.*real.*$)', 'real estate')\n",
    "t['PTWORK'] = t['PTWORK'].str.replace(r'(^.*secretary.*$)', 'secretary')\n",
    "t['PTWORK'] = t['PTWORK'].str.replace(r'(^.*professor.*$)', 'professor')\n",
    "t['PTWORK'] = t['PTWORK'].str.replace(r'(^.*chem.*$)', 'chemist')\n",
    "t['PTWORK'] = t['PTWORK'].str.replace(r'(^.*business.*$)', 'business')\n",
    "t['PTWORK'] = t['PTWORK'].str.replace(r'(^.*writ.*$)', 'writing')\n",
    "t['PTWORK'] = t['PTWORK'].str.replace(r'(^.*psych.*$)', 'psychology')\n",
    "t['PTWORK'] = t['PTWORK'].str.replace(r'(^.*analys.*$)', 'analyst')"
   ]
  },
  {
   "cell_type": "code",
   "execution_count": null,
   "id": "87956e37",
   "metadata": {},
   "outputs": [],
   "source": [
    "cond = t['PTWORK'].value_counts()\n",
    "threshold = 10\n",
    "t['PTWORK'] = np.where(t['PTWORK'].isin(cond.index[cond >= threshold ]), t['PTWORK'], 'other')"
   ]
  },
  {
   "cell_type": "code",
   "execution_count": null,
   "id": "1b39ec23-4b41-4061-9c7f-7c25aadd9445",
   "metadata": {},
   "outputs": [],
   "source": [
    "categorical = ['PTGENDER', 'PTWORK',\n",
    " 'PTHOME',\n",
    " 'PTMARRY',\n",
    " 'PTEDUCAT',\n",
    " 'PTPLANG',\n",
    " 'NXVISUAL',\n",
    " 'PTNOTRT',\n",
    " 'NXTREMOR',\n",
    " 'NXAUDITO',\n",
    " 'PTHAND']"
   ]
  },
  {
   "cell_type": "code",
   "execution_count": null,
   "id": "b6fc83ae-7c3e-4aec-a5ec-5af93a881c31",
   "metadata": {},
   "outputs": [],
   "source": [
    "quant = ['PTDOBYY',\n",
    " 'PHC_MEM',\n",
    " 'PHC_EXF',\n",
    " 'PTRACCAT',\n",
    " 'AGE',\n",
    " 'PTADDX',\n",
    " 'PTETHCAT',\n",
    " 'PTCOGBEG',\n",
    " 'PHC_VSP',\n",
    " 'PHC_LAN']"
   ]
  },
  {
   "cell_type": "code",
   "execution_count": null,
   "id": "e2beb1b4-0666-4826-bdd3-12c680e4f000",
   "metadata": {},
   "outputs": [],
   "source": [
    "text = [\"PTWORK\", \"CMMED\"]"
   ]
  },
  {
   "cell_type": "code",
   "execution_count": null,
   "id": "05831e14-c9a1-4257-98eb-1d8b8f5e33cb",
   "metadata": {},
   "outputs": [],
   "source": [
    "cols_left = list(set(t.columns) - set(categorical) - set(text)  - set([\"label\", \"Group\",\"GROUP\", \"Phase\", \"RID\", \"PTID\"]))\n",
    "t[cols_left]"
   ]
  },
  {
   "cell_type": "code",
   "execution_count": null,
   "id": "b408fd4f-f667-48e9-896c-36a9877ae3e0",
   "metadata": {},
   "outputs": [],
   "source": [
    "for col in cols_left:\n",
    "    if len(t[col].value_counts()) < 10:\n",
    "        print(col)\n",
    "        categorical.append(col)"
   ]
  },
  {
   "cell_type": "code",
   "execution_count": null,
   "id": "196cc98b-4c2d-4a60-be9d-09394f0cf0e7",
   "metadata": {},
   "outputs": [],
   "source": [
    "to_del = [\"PTRTYR\", \"EXAMDATE\", \"SUBJECT_KEY\", \"PTWRECNT\"]\n",
    "t = t.drop(to_del, axis=1)"
   ]
  },
  {
   "cell_type": "code",
   "execution_count": null,
   "id": "253e82e4-aac1-4fcb-83f2-0fd9274088eb",
   "metadata": {},
   "outputs": [],
   "source": [
    "quant = list(set(cols_left) - set(categorical) - set(text)  -set(to_del) - set([\"label\", \"Group\",\"GROUP\", \"Phase\", \"RID\", \"PTID\"]))\n",
    "t[quant]"
   ]
  },
  {
   "cell_type": "code",
   "execution_count": null,
   "id": "ad35048c-9af8-40d2-aade-316c8c2205b9",
   "metadata": {},
   "outputs": [],
   "source": [
    "cols_left = list(set(cols_left) - set(categorical) - set(text) - set(quant) - set(to_del))"
   ]
  },
  {
   "cell_type": "code",
   "execution_count": null,
   "id": "9e021a34",
   "metadata": {},
   "outputs": [],
   "source": [
    "#after reviewing the meaning of each column, these are the final ones\n",
    "l = ['RID', 'PTID', 'Group', 'Phase', 'PTGENDER', 'PTDOBYY', 'PTHAND',\n",
    "       'PTMARRY', 'PTEDUCAT', 'PTWORK', 'PTNOTRT', 'PTHOME', 'PTTLANG',\n",
    "       'PTPLANG', 'PTCOGBEG', 'PTETHCAT', 'PTRACCAT', 'NXVISUAL',\n",
    "       'NXAUDITO', 'NXTREMOR', 'NXCONSCI', 'NXNERVE', 'NXMOTOR', 'NXFINGER',\n",
    "       'NXHEEL', 'NXSENSOR', 'NXTENDON', 'NXPLANTA', 'NXGAIT', \n",
    "       'NXABNORM',  'PHC_MEM', 'PHC_EXF', 'PHC_LAN', 'PHC_VSP']"
   ]
  },
  {
   "cell_type": "code",
   "execution_count": null,
   "id": "0fda1d8f",
   "metadata": {},
   "outputs": [],
   "source": [
    "t[l]"
   ]
  },
  {
   "cell_type": "code",
   "execution_count": null,
   "id": "31cdfc41-ccfe-48b3-afd4-c322eab38909",
   "metadata": {},
   "outputs": [],
   "source": [
    "dfs = []"
   ]
  },
  {
   "cell_type": "code",
   "execution_count": null,
   "id": "1018a35d-263a-4a62-aaa0-2c7a47f5a10d",
   "metadata": {},
   "outputs": [],
   "source": [
    "for col in categorical:\n",
    "    dfs.append(pd.get_dummies(t[col], prefix = col))"
   ]
  },
  {
   "cell_type": "code",
   "execution_count": null,
   "id": "5b875eec-d52d-4172-b518-66971278cd43",
   "metadata": {},
   "outputs": [],
   "source": [
    "cat = pd.concat(dfs, axis=1)"
   ]
  },
  {
   "cell_type": "code",
   "execution_count": null,
   "id": "5b827aa0-a976-4825-a28c-bfc449441639",
   "metadata": {},
   "outputs": [],
   "source": [
    "t[quant]"
   ]
  },
  {
   "cell_type": "code",
   "execution_count": null,
   "id": "f37bee95-d4cd-4999-b388-c190eacab453",
   "metadata": {},
   "outputs": [],
   "source": [
    "cat"
   ]
  },
  {
   "cell_type": "code",
   "execution_count": null,
   "id": "6b5a1415-e27e-4c6a-8c9b-87184a8af2e1",
   "metadata": {},
   "outputs": [],
   "source": [
    "t[[\"PTID\",\"RID\", \"Phase\", \"Group\"]]"
   ]
  },
  {
   "cell_type": "code",
   "execution_count": null,
   "id": "cae61a87-7b62-46c8-8b74-6d687edbf06e",
   "metadata": {},
   "outputs": [],
   "source": [
    "c = pd.concat([t[[\"PTID\", \"RID\", \"Phase\", \"Group\"]].reset_index(), cat.reset_index(), t[quant].reset_index()], axis=1).drop(\"index\", axis=1) #tex"
   ]
  },
  {
   "cell_type": "code",
   "execution_count": null,
   "id": "8af0b682-ca05-460e-9929-0d06b17b3f28",
   "metadata": {},
   "outputs": [],
   "source": [
    "c"
   ]
  },
  {
   "cell_type": "code",
   "execution_count": null,
   "id": "0ad91066",
   "metadata": {},
   "outputs": [],
   "source": [
    "#removing repeating subjects, taking the most recent diagnosis\n",
    "c = c.groupby('PTID', \n",
    "                  group_keys=False).apply(lambda x: x.loc[x[\"Group\"].astype(int).idxmax()]).drop(\"PTID\", axis = 1).reset_index(inplace=False)"
   ]
  },
  {
   "cell_type": "code",
   "execution_count": null,
   "id": "0f44b459-a6ac-43a5-a254-c68b10eea1ee",
   "metadata": {},
   "outputs": [],
   "source": [
    "c.to_csv(\"clinical.csv\")"
   ]
  },
  {
   "cell_type": "code",
   "execution_count": null,
   "id": "904cc445-5299-4635-81d7-222d3ffc9352",
   "metadata": {},
   "outputs": [],
   "source": [
    "#reading in the overlap test set\n",
    "ts = pd.read_csv(\"overlap_test_set.csv\").rename(columns={\"subject\": \"PTID\"})\n",
    "\n",
    "#removing ids from the overlap test set\n",
    "c = c[~c[\"PTID\"].isin(list(ts[\"PTID\"].values))]"
   ]
  },
  {
   "cell_type": "code",
   "execution_count": null,
   "id": "7b32d73f-2e9a-4aca-a412-4543754f12b9",
   "metadata": {},
   "outputs": [],
   "source": [
    "cols = list(set(c.columns) - set([\"PTID\",\"RID\",\"subject\", \"ID\",\"GROUP\", \"Group\", \"label\", \"Phase\", \"SITEID\", \"VISCODE\", \"VISCODE2\", \"USERDATE\", \"USERDATE2\", \"update_stamp\", \"DX_x\",\"DX_y\", \"Unnamed: 0\"]))\n",
    "X = c[cols].values \n",
    "y = c[\"Group\"].astype(int).values\n",
    "\n",
    "\n",
    "X_train, X_test, y_train, y_test = train_test_split(X, y, test_size=0.1, random_state=42)"
   ]
  },
  {
   "cell_type": "code",
   "execution_count": null,
   "id": "66ac8e9f-10cd-4f12-9287-32403721264d",
   "metadata": {},
   "outputs": [],
   "source": [
    "X_train.to_pickle(\"X_train_c.pkl\")\n",
    "y_train.to_pickle(\"y_train_c.pkl\")\n",
    "\n",
    "X_test.to_pickle(\"X_test_c.pkl\")\n",
    "y_test.to_pickle(\"y_test_c.pkl\")"
   ]
  }
 ],
 "metadata": {
  "kernelspec": {
   "display_name": "Python 3 (ipykernel)",
   "language": "python",
   "name": "python3"
  },
  "language_info": {
   "codemirror_mode": {
    "name": "ipython",
    "version": 3
   },
   "file_extension": ".py",
   "mimetype": "text/x-python",
   "name": "python",
   "nbconvert_exporter": "python",
   "pygments_lexer": "ipython3",
   "version": "3.10.13"
  }
 },
 "nbformat": 4,
 "nbformat_minor": 5
}
